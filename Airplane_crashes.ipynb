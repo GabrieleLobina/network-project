{
 "cells": [
  {
   "cell_type": "code",
   "execution_count": 2,
   "outputs": [],
   "source": [
    "import pandas as pd"
   ],
   "metadata": {
    "collapsed": false,
    "pycharm": {
     "name": "#%%\n"
    }
   }
  },
  {
   "cell_type": "code",
   "execution_count": 3,
   "outputs": [
    {
     "data": {
      "text/plain": "            Date   Time                            Location  \\\n0     09/17/1908  17:18                 Fort Myer, Virginia   \n1     09/07/1909    NaN             Juvisy-sur-Orge, France   \n2     07/12/1912  06:30           Atlantic City, New Jersey   \n3     08/06/1913    NaN  Victoria, British Columbia, Canada   \n4     09/09/1913  18:30                  Over the North Sea   \n...          ...    ...                                 ...   \n4962  04/16/2019  11:00                 Puerto Montt, Chile   \n4963  05/05/2019  18:30               Near Monclava, Mexico   \n4964  05/05/2019  18:30                      Moscow, Russia   \n4965  06/03/2019  13:00                    Near Lipo, India   \n4966  07/30/2019  02:00                   Rawalpindi, India   \n\n                                     Operator Flight #  \\\n0                        Military - U.S. Army      NaN   \n1                                         NaN      NaN   \n2                        Military - U.S. Navy      NaN   \n3                                     Private      NaN   \n4                      Military - German Navy      NaN   \n...                                       ...      ...   \n4962              Archipelagos Service Aereos      NaN   \n4963                  TVPX Aircraft Solutions      NaN   \n4964  Aeroflot Russian International Airlines      NaN   \n4965              Military - Indian Air Force      NaN   \n4966                 Military - Pakistan Army      NaN   \n\n                          Route                                   AC Type  \\\n0                 Demonstration                          Wright Flyer III   \n1                      Air show                            Wright Byplane   \n2                   Test flight                                 Dirigible   \n3                           NaN                          Curtiss seaplane   \n4                           NaN                    Zeppelin L-1 (airship)   \n...                         ...                                       ...   \n4962     Puerto Montt - Ayacara  Pilatus-Britten Norman BN-2B-27 Islander   \n4963      Las Vegas - Monterrey           Canadair CL-600-2B16-Challenger   \n4964          Moscow - Murmansk                   Sukhoi Superjet-100-95B   \n4965   Jorhat-Rowriah - Mechuka                             Antonov An-32   \n4966                   Training                  Beechcraft B300 King Air   \n\n     Registration  cn/ln  Aboard  Aboard Passangers  Aboard Crew  Fatalities  \\\n0             NaN      1     2.0                1.0          1.0         1.0   \n1             SC1    NaN     1.0                0.0          1.0         1.0   \n2             NaN    NaN     5.0                0.0          5.0         5.0   \n3             NaN    NaN     1.0                0.0          1.0         1.0   \n4             NaN    NaN    20.0                NaN          NaN        14.0   \n...           ...    ...     ...                ...          ...         ...   \n4962      CC-CYR    2169     6.0                5.0          1.0         6.0   \n4963       N601VH   5043    13.0               11.0          2.0        13.0   \n4964    RA-89098   95135    78.0               73.0          5.0        41.0   \n4965        K2752   1009    13.0                5.0          8.0        13.0   \n4966          766   B766     5.0                0.0          5.0         5.0   \n\n      Fatalities Passangers  Fatalities Crew  Ground  \\\n0                       1.0              0.0     0.0   \n1                       0.0              0.0     0.0   \n2                       0.0              5.0     0.0   \n3                       0.0              1.0     0.0   \n4                       NaN              NaN     0.0   \n...                     ...              ...     ...   \n4962                    5.0              1.0     0.0   \n4963                   11.0              2.0     0.0   \n4964                   40.0              1.0     0.0   \n4965                    5.0              8.0     0.0   \n4966                    0.0              5.0    14.0   \n\n                                                Summary  \n0     During a demonstration flight, a U.S. Army fly...  \n1     Eugene Lefebvre was the first pilot to ever be...  \n2     First U.S. dirigible Akron exploded just offsh...  \n3     The first fatal airplane accident in Canada oc...  \n4     The airship flew into a thunderstorm and encou...  \n...                                                 ...  \n4962  While the aircraft was in the initial climb, p...  \n4963  The aircraft crashed while en route on a retur...  \n4964  Forty-five minutes after taking off from Mosco...  \n4965                 Crashed about 34km WNW of Mechuka.  \n4966  The Pakistani military plane, on a training fl...  \n\n[4967 rows x 17 columns]",
      "text/html": "<div>\n<style scoped>\n    .dataframe tbody tr th:only-of-type {\n        vertical-align: middle;\n    }\n\n    .dataframe tbody tr th {\n        vertical-align: top;\n    }\n\n    .dataframe thead th {\n        text-align: right;\n    }\n</style>\n<table border=\"1\" class=\"dataframe\">\n  <thead>\n    <tr style=\"text-align: right;\">\n      <th></th>\n      <th>Date</th>\n      <th>Time</th>\n      <th>Location</th>\n      <th>Operator</th>\n      <th>Flight #</th>\n      <th>Route</th>\n      <th>AC Type</th>\n      <th>Registration</th>\n      <th>cn/ln</th>\n      <th>Aboard</th>\n      <th>Aboard Passangers</th>\n      <th>Aboard Crew</th>\n      <th>Fatalities</th>\n      <th>Fatalities Passangers</th>\n      <th>Fatalities Crew</th>\n      <th>Ground</th>\n      <th>Summary</th>\n    </tr>\n  </thead>\n  <tbody>\n    <tr>\n      <th>0</th>\n      <td>09/17/1908</td>\n      <td>17:18</td>\n      <td>Fort Myer, Virginia</td>\n      <td>Military - U.S. Army</td>\n      <td>NaN</td>\n      <td>Demonstration</td>\n      <td>Wright Flyer III</td>\n      <td>NaN</td>\n      <td>1</td>\n      <td>2.0</td>\n      <td>1.0</td>\n      <td>1.0</td>\n      <td>1.0</td>\n      <td>1.0</td>\n      <td>0.0</td>\n      <td>0.0</td>\n      <td>During a demonstration flight, a U.S. Army fly...</td>\n    </tr>\n    <tr>\n      <th>1</th>\n      <td>09/07/1909</td>\n      <td>NaN</td>\n      <td>Juvisy-sur-Orge, France</td>\n      <td>NaN</td>\n      <td>NaN</td>\n      <td>Air show</td>\n      <td>Wright Byplane</td>\n      <td>SC1</td>\n      <td>NaN</td>\n      <td>1.0</td>\n      <td>0.0</td>\n      <td>1.0</td>\n      <td>1.0</td>\n      <td>0.0</td>\n      <td>0.0</td>\n      <td>0.0</td>\n      <td>Eugene Lefebvre was the first pilot to ever be...</td>\n    </tr>\n    <tr>\n      <th>2</th>\n      <td>07/12/1912</td>\n      <td>06:30</td>\n      <td>Atlantic City, New Jersey</td>\n      <td>Military - U.S. Navy</td>\n      <td>NaN</td>\n      <td>Test flight</td>\n      <td>Dirigible</td>\n      <td>NaN</td>\n      <td>NaN</td>\n      <td>5.0</td>\n      <td>0.0</td>\n      <td>5.0</td>\n      <td>5.0</td>\n      <td>0.0</td>\n      <td>5.0</td>\n      <td>0.0</td>\n      <td>First U.S. dirigible Akron exploded just offsh...</td>\n    </tr>\n    <tr>\n      <th>3</th>\n      <td>08/06/1913</td>\n      <td>NaN</td>\n      <td>Victoria, British Columbia, Canada</td>\n      <td>Private</td>\n      <td>NaN</td>\n      <td>NaN</td>\n      <td>Curtiss seaplane</td>\n      <td>NaN</td>\n      <td>NaN</td>\n      <td>1.0</td>\n      <td>0.0</td>\n      <td>1.0</td>\n      <td>1.0</td>\n      <td>0.0</td>\n      <td>1.0</td>\n      <td>0.0</td>\n      <td>The first fatal airplane accident in Canada oc...</td>\n    </tr>\n    <tr>\n      <th>4</th>\n      <td>09/09/1913</td>\n      <td>18:30</td>\n      <td>Over the North Sea</td>\n      <td>Military - German Navy</td>\n      <td>NaN</td>\n      <td>NaN</td>\n      <td>Zeppelin L-1 (airship)</td>\n      <td>NaN</td>\n      <td>NaN</td>\n      <td>20.0</td>\n      <td>NaN</td>\n      <td>NaN</td>\n      <td>14.0</td>\n      <td>NaN</td>\n      <td>NaN</td>\n      <td>0.0</td>\n      <td>The airship flew into a thunderstorm and encou...</td>\n    </tr>\n    <tr>\n      <th>...</th>\n      <td>...</td>\n      <td>...</td>\n      <td>...</td>\n      <td>...</td>\n      <td>...</td>\n      <td>...</td>\n      <td>...</td>\n      <td>...</td>\n      <td>...</td>\n      <td>...</td>\n      <td>...</td>\n      <td>...</td>\n      <td>...</td>\n      <td>...</td>\n      <td>...</td>\n      <td>...</td>\n      <td>...</td>\n    </tr>\n    <tr>\n      <th>4962</th>\n      <td>04/16/2019</td>\n      <td>11:00</td>\n      <td>Puerto Montt, Chile</td>\n      <td>Archipelagos Service Aereos</td>\n      <td>NaN</td>\n      <td>Puerto Montt - Ayacara</td>\n      <td>Pilatus-Britten Norman BN-2B-27 Islander</td>\n      <td>CC-CYR</td>\n      <td>2169</td>\n      <td>6.0</td>\n      <td>5.0</td>\n      <td>1.0</td>\n      <td>6.0</td>\n      <td>5.0</td>\n      <td>1.0</td>\n      <td>0.0</td>\n      <td>While the aircraft was in the initial climb, p...</td>\n    </tr>\n    <tr>\n      <th>4963</th>\n      <td>05/05/2019</td>\n      <td>18:30</td>\n      <td>Near Monclava, Mexico</td>\n      <td>TVPX Aircraft Solutions</td>\n      <td>NaN</td>\n      <td>Las Vegas - Monterrey</td>\n      <td>Canadair CL-600-2B16-Challenger</td>\n      <td>N601VH</td>\n      <td>5043</td>\n      <td>13.0</td>\n      <td>11.0</td>\n      <td>2.0</td>\n      <td>13.0</td>\n      <td>11.0</td>\n      <td>2.0</td>\n      <td>0.0</td>\n      <td>The aircraft crashed while en route on a retur...</td>\n    </tr>\n    <tr>\n      <th>4964</th>\n      <td>05/05/2019</td>\n      <td>18:30</td>\n      <td>Moscow, Russia</td>\n      <td>Aeroflot Russian International Airlines</td>\n      <td>NaN</td>\n      <td>Moscow - Murmansk</td>\n      <td>Sukhoi Superjet-100-95B</td>\n      <td>RA-89098</td>\n      <td>95135</td>\n      <td>78.0</td>\n      <td>73.0</td>\n      <td>5.0</td>\n      <td>41.0</td>\n      <td>40.0</td>\n      <td>1.0</td>\n      <td>0.0</td>\n      <td>Forty-five minutes after taking off from Mosco...</td>\n    </tr>\n    <tr>\n      <th>4965</th>\n      <td>06/03/2019</td>\n      <td>13:00</td>\n      <td>Near Lipo, India</td>\n      <td>Military - Indian Air Force</td>\n      <td>NaN</td>\n      <td>Jorhat-Rowriah - Mechuka</td>\n      <td>Antonov An-32</td>\n      <td>K2752</td>\n      <td>1009</td>\n      <td>13.0</td>\n      <td>5.0</td>\n      <td>8.0</td>\n      <td>13.0</td>\n      <td>5.0</td>\n      <td>8.0</td>\n      <td>0.0</td>\n      <td>Crashed about 34km WNW of Mechuka.</td>\n    </tr>\n    <tr>\n      <th>4966</th>\n      <td>07/30/2019</td>\n      <td>02:00</td>\n      <td>Rawalpindi, India</td>\n      <td>Military - Pakistan Army</td>\n      <td>NaN</td>\n      <td>Training</td>\n      <td>Beechcraft B300 King Air</td>\n      <td>766</td>\n      <td>B766</td>\n      <td>5.0</td>\n      <td>0.0</td>\n      <td>5.0</td>\n      <td>5.0</td>\n      <td>0.0</td>\n      <td>5.0</td>\n      <td>14.0</td>\n      <td>The Pakistani military plane, on a training fl...</td>\n    </tr>\n  </tbody>\n</table>\n<p>4967 rows × 17 columns</p>\n</div>"
     },
     "execution_count": 3,
     "metadata": {},
     "output_type": "execute_result"
    }
   ],
   "source": [
    "dataset = pd.read_csv(\"datasets/Airplane_Crashes_and_Fatalities_Since_1908_20190820105639.csv\")\n",
    "dataset"
   ],
   "metadata": {
    "collapsed": false,
    "pycharm": {
     "name": "#%%\n"
    }
   }
  },
  {
   "cell_type": "markdown",
   "source": [
    "---\n",
    "# Gabro"
   ],
   "metadata": {
    "collapsed": false,
    "pycharm": {
     "name": "#%% md\n"
    }
   }
  },
  {
   "cell_type": "code",
   "execution_count": 4,
   "outputs": [
    {
     "name": "stdout",
     "output_type": "stream",
     "text": [
      "numero di Na: 10\n",
      "numero di operatori militari univoci: 251\n"
     ]
    }
   ],
   "source": [
    "dataset['Operator'].unique()\n",
    "\n",
    "print(\"numero di Na:\", len([i for i in dataset.Operator if type(i) == float])) # abbiamo solo 10 Na\n",
    "\n",
    "military_flights = []\n",
    "\n",
    "military_words = [\"Army\", \"Navy\", \"Marine\", \"Military\", \"Force\", \"Airforce\"]\n",
    "\n",
    "for operator in dataset['Operator'].unique():\n",
    "    if type(operator) != float:\n",
    "        for word in military_words:\n",
    "            if word in operator and operator not in military_flights: military_flights.append(operator)\n",
    "\n",
    "print(\"numero di operatori militari univoci:\", len(military_flights))  # 251 valori univoci relativi"
   ],
   "metadata": {
    "collapsed": false,
    "pycharm": {
     "name": "#%%\n"
    }
   }
  },
  {
   "cell_type": "code",
   "execution_count": 5,
   "outputs": [
    {
     "data": {
      "text/plain": "            Date   Time                            Location  \\\n0     09/17/1908  17:18                 Fort Myer, Virginia   \n1     09/07/1909    NaN             Juvisy-sur-Orge, France   \n2     07/12/1912  06:30           Atlantic City, New Jersey   \n3     08/06/1913    NaN  Victoria, British Columbia, Canada   \n4     09/09/1913  18:30                  Over the North Sea   \n...          ...    ...                                 ...   \n4962  04/16/2019  11:00                 Puerto Montt, Chile   \n4963  05/05/2019  18:30               Near Monclava, Mexico   \n4964  05/05/2019  18:30                      Moscow, Russia   \n4965  06/03/2019  13:00                    Near Lipo, India   \n4966  07/30/2019  02:00                   Rawalpindi, India   \n\n                                     Operator Flight #  \\\n0                        Military - U.S. Army      NaN   \n1                                         NaN      NaN   \n2                        Military - U.S. Navy      NaN   \n3                                     Private      NaN   \n4                      Military - German Navy      NaN   \n...                                       ...      ...   \n4962              Archipelagos Service Aereos      NaN   \n4963                  TVPX Aircraft Solutions      NaN   \n4964  Aeroflot Russian International Airlines      NaN   \n4965              Military - Indian Air Force      NaN   \n4966                 Military - Pakistan Army      NaN   \n\n                          Route                                   AC Type  \\\n0                 Demonstration                          Wright Flyer III   \n1                      Air show                            Wright Byplane   \n2                   Test flight                                 Dirigible   \n3                           NaN                          Curtiss seaplane   \n4                           NaN                    Zeppelin L-1 (airship)   \n...                         ...                                       ...   \n4962     Puerto Montt - Ayacara  Pilatus-Britten Norman BN-2B-27 Islander   \n4963      Las Vegas - Monterrey           Canadair CL-600-2B16-Challenger   \n4964          Moscow - Murmansk                   Sukhoi Superjet-100-95B   \n4965   Jorhat-Rowriah - Mechuka                             Antonov An-32   \n4966                   Training                  Beechcraft B300 King Air   \n\n     Registration  cn/ln  Aboard  Aboard Passangers  Aboard Crew  Fatalities  \\\n0             NaN      1     2.0                1.0          1.0         1.0   \n1             SC1    NaN     1.0                0.0          1.0         1.0   \n2             NaN    NaN     5.0                0.0          5.0         5.0   \n3             NaN    NaN     1.0                0.0          1.0         1.0   \n4             NaN    NaN    20.0                NaN          NaN        14.0   \n...           ...    ...     ...                ...          ...         ...   \n4962      CC-CYR    2169     6.0                5.0          1.0         6.0   \n4963       N601VH   5043    13.0               11.0          2.0        13.0   \n4964    RA-89098   95135    78.0               73.0          5.0        41.0   \n4965        K2752   1009    13.0                5.0          8.0        13.0   \n4966          766   B766     5.0                0.0          5.0         5.0   \n\n      Fatalities Passangers  Fatalities Crew  Ground  \\\n0                       1.0              0.0     0.0   \n1                       0.0              0.0     0.0   \n2                       0.0              5.0     0.0   \n3                       0.0              1.0     0.0   \n4                       NaN              NaN     0.0   \n...                     ...              ...     ...   \n4962                    5.0              1.0     0.0   \n4963                   11.0              2.0     0.0   \n4964                   40.0              1.0     0.0   \n4965                    5.0              8.0     0.0   \n4966                    0.0              5.0    14.0   \n\n                                                Summary  \\\n0     During a demonstration flight, a U.S. Army fly...   \n1     Eugene Lefebvre was the first pilot to ever be...   \n2     First U.S. dirigible Akron exploded just offsh...   \n3     The first fatal airplane accident in Canada oc...   \n4     The airship flew into a thunderstorm and encou...   \n...                                                 ...   \n4962  While the aircraft was in the initial climb, p...   \n4963  The aircraft crashed while en route on a retur...   \n4964  Forty-five minutes after taking off from Mosco...   \n4965                 Crashed about 34km WNW of Mechuka.   \n4966  The Pakistani military plane, on a training fl...   \n\n                          New_Operator_column  \n0                             Military flight  \n1                                         NaN  \n2                             Military flight  \n3                                     Private  \n4                             Military flight  \n...                                       ...  \n4962              Archipelagos Service Aereos  \n4963                  TVPX Aircraft Solutions  \n4964  Aeroflot Russian International Airlines  \n4965                          Military flight  \n4966                          Military flight  \n\n[4967 rows x 18 columns]",
      "text/html": "<div>\n<style scoped>\n    .dataframe tbody tr th:only-of-type {\n        vertical-align: middle;\n    }\n\n    .dataframe tbody tr th {\n        vertical-align: top;\n    }\n\n    .dataframe thead th {\n        text-align: right;\n    }\n</style>\n<table border=\"1\" class=\"dataframe\">\n  <thead>\n    <tr style=\"text-align: right;\">\n      <th></th>\n      <th>Date</th>\n      <th>Time</th>\n      <th>Location</th>\n      <th>Operator</th>\n      <th>Flight #</th>\n      <th>Route</th>\n      <th>AC Type</th>\n      <th>Registration</th>\n      <th>cn/ln</th>\n      <th>Aboard</th>\n      <th>Aboard Passangers</th>\n      <th>Aboard Crew</th>\n      <th>Fatalities</th>\n      <th>Fatalities Passangers</th>\n      <th>Fatalities Crew</th>\n      <th>Ground</th>\n      <th>Summary</th>\n      <th>New_Operator_column</th>\n    </tr>\n  </thead>\n  <tbody>\n    <tr>\n      <th>0</th>\n      <td>09/17/1908</td>\n      <td>17:18</td>\n      <td>Fort Myer, Virginia</td>\n      <td>Military - U.S. Army</td>\n      <td>NaN</td>\n      <td>Demonstration</td>\n      <td>Wright Flyer III</td>\n      <td>NaN</td>\n      <td>1</td>\n      <td>2.0</td>\n      <td>1.0</td>\n      <td>1.0</td>\n      <td>1.0</td>\n      <td>1.0</td>\n      <td>0.0</td>\n      <td>0.0</td>\n      <td>During a demonstration flight, a U.S. Army fly...</td>\n      <td>Military flight</td>\n    </tr>\n    <tr>\n      <th>1</th>\n      <td>09/07/1909</td>\n      <td>NaN</td>\n      <td>Juvisy-sur-Orge, France</td>\n      <td>NaN</td>\n      <td>NaN</td>\n      <td>Air show</td>\n      <td>Wright Byplane</td>\n      <td>SC1</td>\n      <td>NaN</td>\n      <td>1.0</td>\n      <td>0.0</td>\n      <td>1.0</td>\n      <td>1.0</td>\n      <td>0.0</td>\n      <td>0.0</td>\n      <td>0.0</td>\n      <td>Eugene Lefebvre was the first pilot to ever be...</td>\n      <td>NaN</td>\n    </tr>\n    <tr>\n      <th>2</th>\n      <td>07/12/1912</td>\n      <td>06:30</td>\n      <td>Atlantic City, New Jersey</td>\n      <td>Military - U.S. Navy</td>\n      <td>NaN</td>\n      <td>Test flight</td>\n      <td>Dirigible</td>\n      <td>NaN</td>\n      <td>NaN</td>\n      <td>5.0</td>\n      <td>0.0</td>\n      <td>5.0</td>\n      <td>5.0</td>\n      <td>0.0</td>\n      <td>5.0</td>\n      <td>0.0</td>\n      <td>First U.S. dirigible Akron exploded just offsh...</td>\n      <td>Military flight</td>\n    </tr>\n    <tr>\n      <th>3</th>\n      <td>08/06/1913</td>\n      <td>NaN</td>\n      <td>Victoria, British Columbia, Canada</td>\n      <td>Private</td>\n      <td>NaN</td>\n      <td>NaN</td>\n      <td>Curtiss seaplane</td>\n      <td>NaN</td>\n      <td>NaN</td>\n      <td>1.0</td>\n      <td>0.0</td>\n      <td>1.0</td>\n      <td>1.0</td>\n      <td>0.0</td>\n      <td>1.0</td>\n      <td>0.0</td>\n      <td>The first fatal airplane accident in Canada oc...</td>\n      <td>Private</td>\n    </tr>\n    <tr>\n      <th>4</th>\n      <td>09/09/1913</td>\n      <td>18:30</td>\n      <td>Over the North Sea</td>\n      <td>Military - German Navy</td>\n      <td>NaN</td>\n      <td>NaN</td>\n      <td>Zeppelin L-1 (airship)</td>\n      <td>NaN</td>\n      <td>NaN</td>\n      <td>20.0</td>\n      <td>NaN</td>\n      <td>NaN</td>\n      <td>14.0</td>\n      <td>NaN</td>\n      <td>NaN</td>\n      <td>0.0</td>\n      <td>The airship flew into a thunderstorm and encou...</td>\n      <td>Military flight</td>\n    </tr>\n    <tr>\n      <th>...</th>\n      <td>...</td>\n      <td>...</td>\n      <td>...</td>\n      <td>...</td>\n      <td>...</td>\n      <td>...</td>\n      <td>...</td>\n      <td>...</td>\n      <td>...</td>\n      <td>...</td>\n      <td>...</td>\n      <td>...</td>\n      <td>...</td>\n      <td>...</td>\n      <td>...</td>\n      <td>...</td>\n      <td>...</td>\n      <td>...</td>\n    </tr>\n    <tr>\n      <th>4962</th>\n      <td>04/16/2019</td>\n      <td>11:00</td>\n      <td>Puerto Montt, Chile</td>\n      <td>Archipelagos Service Aereos</td>\n      <td>NaN</td>\n      <td>Puerto Montt - Ayacara</td>\n      <td>Pilatus-Britten Norman BN-2B-27 Islander</td>\n      <td>CC-CYR</td>\n      <td>2169</td>\n      <td>6.0</td>\n      <td>5.0</td>\n      <td>1.0</td>\n      <td>6.0</td>\n      <td>5.0</td>\n      <td>1.0</td>\n      <td>0.0</td>\n      <td>While the aircraft was in the initial climb, p...</td>\n      <td>Archipelagos Service Aereos</td>\n    </tr>\n    <tr>\n      <th>4963</th>\n      <td>05/05/2019</td>\n      <td>18:30</td>\n      <td>Near Monclava, Mexico</td>\n      <td>TVPX Aircraft Solutions</td>\n      <td>NaN</td>\n      <td>Las Vegas - Monterrey</td>\n      <td>Canadair CL-600-2B16-Challenger</td>\n      <td>N601VH</td>\n      <td>5043</td>\n      <td>13.0</td>\n      <td>11.0</td>\n      <td>2.0</td>\n      <td>13.0</td>\n      <td>11.0</td>\n      <td>2.0</td>\n      <td>0.0</td>\n      <td>The aircraft crashed while en route on a retur...</td>\n      <td>TVPX Aircraft Solutions</td>\n    </tr>\n    <tr>\n      <th>4964</th>\n      <td>05/05/2019</td>\n      <td>18:30</td>\n      <td>Moscow, Russia</td>\n      <td>Aeroflot Russian International Airlines</td>\n      <td>NaN</td>\n      <td>Moscow - Murmansk</td>\n      <td>Sukhoi Superjet-100-95B</td>\n      <td>RA-89098</td>\n      <td>95135</td>\n      <td>78.0</td>\n      <td>73.0</td>\n      <td>5.0</td>\n      <td>41.0</td>\n      <td>40.0</td>\n      <td>1.0</td>\n      <td>0.0</td>\n      <td>Forty-five minutes after taking off from Mosco...</td>\n      <td>Aeroflot Russian International Airlines</td>\n    </tr>\n    <tr>\n      <th>4965</th>\n      <td>06/03/2019</td>\n      <td>13:00</td>\n      <td>Near Lipo, India</td>\n      <td>Military - Indian Air Force</td>\n      <td>NaN</td>\n      <td>Jorhat-Rowriah - Mechuka</td>\n      <td>Antonov An-32</td>\n      <td>K2752</td>\n      <td>1009</td>\n      <td>13.0</td>\n      <td>5.0</td>\n      <td>8.0</td>\n      <td>13.0</td>\n      <td>5.0</td>\n      <td>8.0</td>\n      <td>0.0</td>\n      <td>Crashed about 34km WNW of Mechuka.</td>\n      <td>Military flight</td>\n    </tr>\n    <tr>\n      <th>4966</th>\n      <td>07/30/2019</td>\n      <td>02:00</td>\n      <td>Rawalpindi, India</td>\n      <td>Military - Pakistan Army</td>\n      <td>NaN</td>\n      <td>Training</td>\n      <td>Beechcraft B300 King Air</td>\n      <td>766</td>\n      <td>B766</td>\n      <td>5.0</td>\n      <td>0.0</td>\n      <td>5.0</td>\n      <td>5.0</td>\n      <td>0.0</td>\n      <td>5.0</td>\n      <td>14.0</td>\n      <td>The Pakistani military plane, on a training fl...</td>\n      <td>Military flight</td>\n    </tr>\n  </tbody>\n</table>\n<p>4967 rows × 18 columns</p>\n</div>"
     },
     "execution_count": 5,
     "metadata": {},
     "output_type": "execute_result"
    }
   ],
   "source": [
    "new_column = []\n",
    "for value in dataset.Operator:\n",
    "    if value in military_flights: new_column.append(\"Military flight\")\n",
    "    else: new_column.append(value)\n",
    "\n",
    "dataset = dataset.assign(New_Operator_column=new_column)\n",
    "dataset"
   ],
   "metadata": {
    "collapsed": false,
    "pycharm": {
     "name": "#%%\n"
    }
   }
  },
  {
   "cell_type": "markdown",
   "source": [
    "---\n",
    "# Maic"
   ],
   "metadata": {
    "collapsed": false,
    "pycharm": {
     "name": "#%% md\n"
    }
   }
  },
  {
   "cell_type": "markdown",
   "source": [
    "#### Ci sono troppi NaN, non possiamo tenere in considerazione questa colonna."
   ],
   "metadata": {
    "collapsed": false,
    "pycharm": {
     "name": "#%% md\n"
    }
   }
  },
  {
   "cell_type": "code",
   "execution_count": null,
   "outputs": [],
   "source": [],
   "metadata": {
    "collapsed": false,
    "pycharm": {
     "name": "#%%\n"
    }
   }
  },
  {
   "cell_type": "code",
   "execution_count": null,
   "outputs": [],
   "source": [],
   "metadata": {
    "collapsed": false,
    "pycharm": {
     "name": "#%%\n"
    }
   }
  }
 ],
 "metadata": {
  "kernelspec": {
   "display_name": "Python 3",
   "language": "python",
   "name": "python3"
  },
  "language_info": {
   "codemirror_mode": {
    "name": "ipython",
    "version": 2
   },
   "file_extension": ".py",
   "mimetype": "text/x-python",
   "name": "python",
   "nbconvert_exporter": "python",
   "pygments_lexer": "ipython2",
   "version": "2.7.6"
  }
 },
 "nbformat": 4,
 "nbformat_minor": 0
}