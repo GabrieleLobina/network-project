{
 "cells": [
  {
   "cell_type": "code",
   "execution_count": 2,
   "metadata": {
    "collapsed": true,
    "pycharm": {
     "name": "#%%\n"
    }
   },
   "outputs": [],
   "source": [
    "import pandas as pd"
   ]
  },
  {
   "cell_type": "code",
   "execution_count": 3,
   "outputs": [],
   "source": [
    "path = \"datasets/natalità/C03F (interessante).xlsx\""
   ],
   "metadata": {
    "collapsed": false,
    "pycharm": {
     "name": "#%%\n"
    }
   }
  },
  {
   "cell_type": "code",
   "execution_count": 4,
   "outputs": [],
   "source": [
    "data = pd.ExcelFile(path)"
   ],
   "metadata": {
    "collapsed": false,
    "pycharm": {
     "name": "#%%\n"
    }
   }
  },
  {
   "cell_type": "markdown",
   "source": [
    "Nome fogli del file excel interessanti:\n",
    "- Interessante"
   ],
   "metadata": {
    "collapsed": false,
    "pycharm": {
     "name": "#%% md\n"
    }
   }
  },
  {
   "cell_type": "code",
   "execution_count": 5,
   "outputs": [
    {
     "data": {
      "text/plain": "                                           Unnamed: 0  1999-2000  2003-2005  \\\n0                                                 NaN        NaN        NaN   \n1                                          Nord-ovest        2.5        2.4   \n2                                            Nord-est        2.6        2.5   \n3                                              Centro        2.6        2.5   \n4                                                 Sud        3.0        2.8   \n5                                               Isole        2.8        2.7   \n6                                              Italia        2.7        2.6   \n7                                                 NaN        NaN        NaN   \n8                                                 NaN        NaN        NaN   \n9   Fonte: Istat,  Indagine multiscopo \"Aspetti de...        NaN        NaN   \n10  (a) Fino al 2003 l'indagine è stata condotta n...        NaN        NaN   \n11                                                NaN        NaN        NaN   \n12                                                NaN        NaN        NaN   \n13                                                NaN        NaN        NaN   \n14                                                NaN        NaN        NaN   \n15                                                NaN        NaN        NaN   \n16                                                NaN        NaN        NaN   \n17                                                NaN        NaN        NaN   \n\n    2009-2010  2014-2015  2019-2020  Unnamed: 6  Unnamed: 7  Unnamed: 8  \\\n0         NaN        NaN        NaN         NaN         NaN         NaN   \n1         2.3        2.3        2.2         NaN         NaN         NaN   \n2         2.4        2.3        2.3         NaN         NaN         NaN   \n3         2.4        2.3        2.3         NaN         NaN         NaN   \n4         2.7        2.6        2.5         NaN         NaN         NaN   \n5         2.6        2.5        2.4         NaN         NaN         NaN   \n6         2.5        2.4        2.3         NaN         NaN         NaN   \n7         NaN        NaN        NaN         NaN         NaN         NaN   \n8         NaN        NaN        NaN         NaN         NaN         NaN   \n9         NaN        NaN        NaN         NaN         NaN         NaN   \n10        NaN        NaN        NaN         NaN         NaN         NaN   \n11        NaN        NaN        NaN         NaN         NaN         NaN   \n12        NaN        NaN        NaN         NaN         NaN         NaN   \n13        NaN        NaN        NaN         NaN         NaN         NaN   \n14        NaN        NaN        NaN         NaN         NaN         NaN   \n15        NaN        NaN        NaN         NaN         NaN         NaN   \n16        NaN        NaN        NaN         NaN         NaN         NaN   \n17        NaN        NaN        NaN         NaN         NaN         NaN   \n\n    Unnamed: 9  Unnamed: 10  Unnamed: 11  Unnamed: 12 Unnamed: 13  \n0          NaN          NaN          NaN          NaN         NaN  \n1          NaN          NaN          NaN          NaN         NaN  \n2          NaN          NaN          NaN          NaN         NaN  \n3          NaN          NaN          NaN          NaN         NaN  \n4          NaN          NaN          NaN          NaN         NaN  \n5          NaN          NaN          NaN          NaN         NaN  \n6          NaN          NaN          NaN          NaN         NaN  \n7          NaN          NaN          NaN          NaN         NaN  \n8          NaN          NaN          NaN          NaN         NaN  \n9          NaN          NaN          NaN          NaN         NaN  \n10         NaN          NaN          NaN          NaN         NaN  \n11         NaN          NaN          NaN          NaN         NaN  \n12         NaN          NaN          NaN          NaN         NaN  \n13         NaN          NaN          NaN          NaN         NaN  \n14         NaN          NaN          NaN          NaN         NaN  \n15         NaN          NaN          NaN          NaN         NaN  \n16         NaN          NaN          NaN          NaN         NaN  \n17         NaN          NaN          NaN          NaN              ",
      "text/html": "<div>\n<style scoped>\n    .dataframe tbody tr th:only-of-type {\n        vertical-align: middle;\n    }\n\n    .dataframe tbody tr th {\n        vertical-align: top;\n    }\n\n    .dataframe thead th {\n        text-align: right;\n    }\n</style>\n<table border=\"1\" class=\"dataframe\">\n  <thead>\n    <tr style=\"text-align: right;\">\n      <th></th>\n      <th>Unnamed: 0</th>\n      <th>1999-2000</th>\n      <th>2003-2005</th>\n      <th>2009-2010</th>\n      <th>2014-2015</th>\n      <th>2019-2020</th>\n      <th>Unnamed: 6</th>\n      <th>Unnamed: 7</th>\n      <th>Unnamed: 8</th>\n      <th>Unnamed: 9</th>\n      <th>Unnamed: 10</th>\n      <th>Unnamed: 11</th>\n      <th>Unnamed: 12</th>\n      <th>Unnamed: 13</th>\n    </tr>\n  </thead>\n  <tbody>\n    <tr>\n      <th>0</th>\n      <td>NaN</td>\n      <td>NaN</td>\n      <td>NaN</td>\n      <td>NaN</td>\n      <td>NaN</td>\n      <td>NaN</td>\n      <td>NaN</td>\n      <td>NaN</td>\n      <td>NaN</td>\n      <td>NaN</td>\n      <td>NaN</td>\n      <td>NaN</td>\n      <td>NaN</td>\n      <td>NaN</td>\n    </tr>\n    <tr>\n      <th>1</th>\n      <td>Nord-ovest</td>\n      <td>2.5</td>\n      <td>2.4</td>\n      <td>2.3</td>\n      <td>2.3</td>\n      <td>2.2</td>\n      <td>NaN</td>\n      <td>NaN</td>\n      <td>NaN</td>\n      <td>NaN</td>\n      <td>NaN</td>\n      <td>NaN</td>\n      <td>NaN</td>\n      <td>NaN</td>\n    </tr>\n    <tr>\n      <th>2</th>\n      <td>Nord-est</td>\n      <td>2.6</td>\n      <td>2.5</td>\n      <td>2.4</td>\n      <td>2.3</td>\n      <td>2.3</td>\n      <td>NaN</td>\n      <td>NaN</td>\n      <td>NaN</td>\n      <td>NaN</td>\n      <td>NaN</td>\n      <td>NaN</td>\n      <td>NaN</td>\n      <td>NaN</td>\n    </tr>\n    <tr>\n      <th>3</th>\n      <td>Centro</td>\n      <td>2.6</td>\n      <td>2.5</td>\n      <td>2.4</td>\n      <td>2.3</td>\n      <td>2.3</td>\n      <td>NaN</td>\n      <td>NaN</td>\n      <td>NaN</td>\n      <td>NaN</td>\n      <td>NaN</td>\n      <td>NaN</td>\n      <td>NaN</td>\n      <td>NaN</td>\n    </tr>\n    <tr>\n      <th>4</th>\n      <td>Sud</td>\n      <td>3.0</td>\n      <td>2.8</td>\n      <td>2.7</td>\n      <td>2.6</td>\n      <td>2.5</td>\n      <td>NaN</td>\n      <td>NaN</td>\n      <td>NaN</td>\n      <td>NaN</td>\n      <td>NaN</td>\n      <td>NaN</td>\n      <td>NaN</td>\n      <td>NaN</td>\n    </tr>\n    <tr>\n      <th>5</th>\n      <td>Isole</td>\n      <td>2.8</td>\n      <td>2.7</td>\n      <td>2.6</td>\n      <td>2.5</td>\n      <td>2.4</td>\n      <td>NaN</td>\n      <td>NaN</td>\n      <td>NaN</td>\n      <td>NaN</td>\n      <td>NaN</td>\n      <td>NaN</td>\n      <td>NaN</td>\n      <td>NaN</td>\n    </tr>\n    <tr>\n      <th>6</th>\n      <td>Italia</td>\n      <td>2.7</td>\n      <td>2.6</td>\n      <td>2.5</td>\n      <td>2.4</td>\n      <td>2.3</td>\n      <td>NaN</td>\n      <td>NaN</td>\n      <td>NaN</td>\n      <td>NaN</td>\n      <td>NaN</td>\n      <td>NaN</td>\n      <td>NaN</td>\n      <td>NaN</td>\n    </tr>\n    <tr>\n      <th>7</th>\n      <td>NaN</td>\n      <td>NaN</td>\n      <td>NaN</td>\n      <td>NaN</td>\n      <td>NaN</td>\n      <td>NaN</td>\n      <td>NaN</td>\n      <td>NaN</td>\n      <td>NaN</td>\n      <td>NaN</td>\n      <td>NaN</td>\n      <td>NaN</td>\n      <td>NaN</td>\n      <td>NaN</td>\n    </tr>\n    <tr>\n      <th>8</th>\n      <td>NaN</td>\n      <td>NaN</td>\n      <td>NaN</td>\n      <td>NaN</td>\n      <td>NaN</td>\n      <td>NaN</td>\n      <td>NaN</td>\n      <td>NaN</td>\n      <td>NaN</td>\n      <td>NaN</td>\n      <td>NaN</td>\n      <td>NaN</td>\n      <td>NaN</td>\n      <td>NaN</td>\n    </tr>\n    <tr>\n      <th>9</th>\n      <td>Fonte: Istat,  Indagine multiscopo \"Aspetti de...</td>\n      <td>NaN</td>\n      <td>NaN</td>\n      <td>NaN</td>\n      <td>NaN</td>\n      <td>NaN</td>\n      <td>NaN</td>\n      <td>NaN</td>\n      <td>NaN</td>\n      <td>NaN</td>\n      <td>NaN</td>\n      <td>NaN</td>\n      <td>NaN</td>\n      <td>NaN</td>\n    </tr>\n    <tr>\n      <th>10</th>\n      <td>(a) Fino al 2003 l'indagine è stata condotta n...</td>\n      <td>NaN</td>\n      <td>NaN</td>\n      <td>NaN</td>\n      <td>NaN</td>\n      <td>NaN</td>\n      <td>NaN</td>\n      <td>NaN</td>\n      <td>NaN</td>\n      <td>NaN</td>\n      <td>NaN</td>\n      <td>NaN</td>\n      <td>NaN</td>\n      <td>NaN</td>\n    </tr>\n    <tr>\n      <th>11</th>\n      <td>NaN</td>\n      <td>NaN</td>\n      <td>NaN</td>\n      <td>NaN</td>\n      <td>NaN</td>\n      <td>NaN</td>\n      <td>NaN</td>\n      <td>NaN</td>\n      <td>NaN</td>\n      <td>NaN</td>\n      <td>NaN</td>\n      <td>NaN</td>\n      <td>NaN</td>\n      <td>NaN</td>\n    </tr>\n    <tr>\n      <th>12</th>\n      <td>NaN</td>\n      <td>NaN</td>\n      <td>NaN</td>\n      <td>NaN</td>\n      <td>NaN</td>\n      <td>NaN</td>\n      <td>NaN</td>\n      <td>NaN</td>\n      <td>NaN</td>\n      <td>NaN</td>\n      <td>NaN</td>\n      <td>NaN</td>\n      <td>NaN</td>\n      <td>NaN</td>\n    </tr>\n    <tr>\n      <th>13</th>\n      <td>NaN</td>\n      <td>NaN</td>\n      <td>NaN</td>\n      <td>NaN</td>\n      <td>NaN</td>\n      <td>NaN</td>\n      <td>NaN</td>\n      <td>NaN</td>\n      <td>NaN</td>\n      <td>NaN</td>\n      <td>NaN</td>\n      <td>NaN</td>\n      <td>NaN</td>\n      <td>NaN</td>\n    </tr>\n    <tr>\n      <th>14</th>\n      <td>NaN</td>\n      <td>NaN</td>\n      <td>NaN</td>\n      <td>NaN</td>\n      <td>NaN</td>\n      <td>NaN</td>\n      <td>NaN</td>\n      <td>NaN</td>\n      <td>NaN</td>\n      <td>NaN</td>\n      <td>NaN</td>\n      <td>NaN</td>\n      <td>NaN</td>\n      <td>NaN</td>\n    </tr>\n    <tr>\n      <th>15</th>\n      <td>NaN</td>\n      <td>NaN</td>\n      <td>NaN</td>\n      <td>NaN</td>\n      <td>NaN</td>\n      <td>NaN</td>\n      <td>NaN</td>\n      <td>NaN</td>\n      <td>NaN</td>\n      <td>NaN</td>\n      <td>NaN</td>\n      <td>NaN</td>\n      <td>NaN</td>\n      <td>NaN</td>\n    </tr>\n    <tr>\n      <th>16</th>\n      <td>NaN</td>\n      <td>NaN</td>\n      <td>NaN</td>\n      <td>NaN</td>\n      <td>NaN</td>\n      <td>NaN</td>\n      <td>NaN</td>\n      <td>NaN</td>\n      <td>NaN</td>\n      <td>NaN</td>\n      <td>NaN</td>\n      <td>NaN</td>\n      <td>NaN</td>\n      <td>NaN</td>\n    </tr>\n    <tr>\n      <th>17</th>\n      <td>NaN</td>\n      <td>NaN</td>\n      <td>NaN</td>\n      <td>NaN</td>\n      <td>NaN</td>\n      <td>NaN</td>\n      <td>NaN</td>\n      <td>NaN</td>\n      <td>NaN</td>\n      <td>NaN</td>\n      <td>NaN</td>\n      <td>NaN</td>\n      <td>NaN</td>\n      <td></td>\n    </tr>\n  </tbody>\n</table>\n</div>"
     },
     "execution_count": 5,
     "metadata": {},
     "output_type": "execute_result"
    }
   ],
   "source": [
    "mean_family_components = data.parse(sheet_name=\"Interessante\", header=7)\n",
    "mean_family_components"
   ],
   "metadata": {
    "collapsed": false,
    "pycharm": {
     "name": "#%%\n"
    }
   }
  },
  {
   "cell_type": "code",
   "execution_count": 6,
   "outputs": [],
   "source": [
    "mean_family_components = mean_family_components.drop(mean_family_components.columns[6:],\n",
    "                                                     axis=1)  # axis = 1 --> agisce sulle colonne"
   ],
   "metadata": {
    "collapsed": false,
    "pycharm": {
     "name": "#%%\n"
    }
   }
  },
  {
   "cell_type": "code",
   "execution_count": 7,
   "outputs": [],
   "source": [
    "mean_family_components = mean_family_components.drop([0, *[i for i in range(7, 18)]],\n",
    "                                                     axis=0)  # axis = 0 --> agisce sulle righe"
   ],
   "metadata": {
    "collapsed": false,
    "pycharm": {
     "name": "#%%\n"
    }
   }
  },
  {
   "cell_type": "code",
   "execution_count": 8,
   "outputs": [],
   "source": [
    "mean_family_components.columns = [\"Zone\", *mean_family_components.columns[1:]]"
   ],
   "metadata": {
    "collapsed": false,
    "pycharm": {
     "name": "#%%\n"
    }
   }
  },
  {
   "cell_type": "code",
   "execution_count": 9,
   "outputs": [
    {
     "data": {
      "text/plain": "         Zone  1999-2000  2003-2005  2009-2010  2014-2015  2019-2020\n1  Nord-ovest        2.5        2.4        2.3        2.3        2.2\n2    Nord-est        2.6        2.5        2.4        2.3        2.3\n3      Centro        2.6        2.5        2.4        2.3        2.3\n4         Sud        3.0        2.8        2.7        2.6        2.5\n5       Isole        2.8        2.7        2.6        2.5        2.4\n6      Italia        2.7        2.6        2.5        2.4        2.3",
      "text/html": "<div>\n<style scoped>\n    .dataframe tbody tr th:only-of-type {\n        vertical-align: middle;\n    }\n\n    .dataframe tbody tr th {\n        vertical-align: top;\n    }\n\n    .dataframe thead th {\n        text-align: right;\n    }\n</style>\n<table border=\"1\" class=\"dataframe\">\n  <thead>\n    <tr style=\"text-align: right;\">\n      <th></th>\n      <th>Zone</th>\n      <th>1999-2000</th>\n      <th>2003-2005</th>\n      <th>2009-2010</th>\n      <th>2014-2015</th>\n      <th>2019-2020</th>\n    </tr>\n  </thead>\n  <tbody>\n    <tr>\n      <th>1</th>\n      <td>Nord-ovest</td>\n      <td>2.5</td>\n      <td>2.4</td>\n      <td>2.3</td>\n      <td>2.3</td>\n      <td>2.2</td>\n    </tr>\n    <tr>\n      <th>2</th>\n      <td>Nord-est</td>\n      <td>2.6</td>\n      <td>2.5</td>\n      <td>2.4</td>\n      <td>2.3</td>\n      <td>2.3</td>\n    </tr>\n    <tr>\n      <th>3</th>\n      <td>Centro</td>\n      <td>2.6</td>\n      <td>2.5</td>\n      <td>2.4</td>\n      <td>2.3</td>\n      <td>2.3</td>\n    </tr>\n    <tr>\n      <th>4</th>\n      <td>Sud</td>\n      <td>3.0</td>\n      <td>2.8</td>\n      <td>2.7</td>\n      <td>2.6</td>\n      <td>2.5</td>\n    </tr>\n    <tr>\n      <th>5</th>\n      <td>Isole</td>\n      <td>2.8</td>\n      <td>2.7</td>\n      <td>2.6</td>\n      <td>2.5</td>\n      <td>2.4</td>\n    </tr>\n    <tr>\n      <th>6</th>\n      <td>Italia</td>\n      <td>2.7</td>\n      <td>2.6</td>\n      <td>2.5</td>\n      <td>2.4</td>\n      <td>2.3</td>\n    </tr>\n  </tbody>\n</table>\n</div>"
     },
     "execution_count": 9,
     "metadata": {},
     "output_type": "execute_result"
    }
   ],
   "source": [
    "mean_family_components"
   ],
   "metadata": {
    "collapsed": false,
    "pycharm": {
     "name": "#%%\n"
    }
   }
  },
  {
   "cell_type": "markdown",
   "source": [
    "# Secondo file"
   ],
   "metadata": {
    "collapsed": false,
    "pycharm": {
     "name": "#%% md\n"
    }
   }
  },
  {
   "cell_type": "code",
   "execution_count": 10,
   "outputs": [],
   "source": [
    "path = \"datasets/natalità/C03T (interessante).xlsx\"\n",
    "data = pd.ExcelFile(path)"
   ],
   "metadata": {
    "collapsed": false,
    "pycharm": {
     "name": "#%%\n"
    }
   }
  },
  {
   "cell_type": "markdown",
   "source": [
    "Nome fogli del file excel interessanti:\n",
    "- 3.6\n",
    "- 3.7\n",
    "- 3.8\n",
    "- 3.18\n",
    "- 3.19\n",
    "- 3.20"
   ],
   "metadata": {
    "collapsed": false,
    "pycharm": {
     "name": "#%% md\n"
    }
   }
  },
  {
   "cell_type": "markdown",
   "source": [
    "---\n",
    "## 3.6: Indicatori di fecondità per cittadinanza della madre e regione\n",
    "#### Fare attenzione perché queste due tabelle hanno un doppio titolo nelle colonne\n",
    "TODO: Decidere se dividere ulteriormente le tabelle in base a questi titoli"
   ],
   "metadata": {
    "collapsed": false,
    "pycharm": {
     "name": "#%% md\n"
    }
   }
  },
  {
   "cell_type": "code",
   "execution_count": 11,
   "outputs": [
    {
     "data": {
      "text/plain": "   ANNI\\nREGIONI Tasso di Fecondità Totale (TFT) Unnamed: 2 Unnamed: 3  \\\n0            NaN                        Italiana  Straniera     Totale   \n2         2015.0                        1.270918   1.940229   1.347892   \n3         2016.0                        1.261517   1.968032   1.340694   \n4         2017.0                        1.240803    1.97948   1.321948   \n5         2018.0                        1.210718   1.937481   1.289692   \n\n  Età media della madre al parto Unnamed: 6 Unnamed: 7  Età media\\n del padre  \n0                       Italiana  Straniera     Totale                    NaN  \n2                      32.252841  28.655955   31.67036              35.255737  \n3                      32.354878  28.747685   31.77571              35.342831  \n4                      32.465795  28.875535  31.889425              35.446354  \n5                      32.548697  29.029351  31.987304              35.494753  ",
      "text/html": "<div>\n<style scoped>\n    .dataframe tbody tr th:only-of-type {\n        vertical-align: middle;\n    }\n\n    .dataframe tbody tr th {\n        vertical-align: top;\n    }\n\n    .dataframe thead th {\n        text-align: right;\n    }\n</style>\n<table border=\"1\" class=\"dataframe\">\n  <thead>\n    <tr style=\"text-align: right;\">\n      <th></th>\n      <th>ANNI\\nREGIONI</th>\n      <th>Tasso di Fecondità Totale (TFT)</th>\n      <th>Unnamed: 2</th>\n      <th>Unnamed: 3</th>\n      <th>Età media della madre al parto</th>\n      <th>Unnamed: 6</th>\n      <th>Unnamed: 7</th>\n      <th>Età media\\n del padre</th>\n    </tr>\n  </thead>\n  <tbody>\n    <tr>\n      <th>0</th>\n      <td>NaN</td>\n      <td>Italiana</td>\n      <td>Straniera</td>\n      <td>Totale</td>\n      <td>Italiana</td>\n      <td>Straniera</td>\n      <td>Totale</td>\n      <td>NaN</td>\n    </tr>\n    <tr>\n      <th>2</th>\n      <td>2015.0</td>\n      <td>1.270918</td>\n      <td>1.940229</td>\n      <td>1.347892</td>\n      <td>32.252841</td>\n      <td>28.655955</td>\n      <td>31.67036</td>\n      <td>35.255737</td>\n    </tr>\n    <tr>\n      <th>3</th>\n      <td>2016.0</td>\n      <td>1.261517</td>\n      <td>1.968032</td>\n      <td>1.340694</td>\n      <td>32.354878</td>\n      <td>28.747685</td>\n      <td>31.77571</td>\n      <td>35.342831</td>\n    </tr>\n    <tr>\n      <th>4</th>\n      <td>2017.0</td>\n      <td>1.240803</td>\n      <td>1.97948</td>\n      <td>1.321948</td>\n      <td>32.465795</td>\n      <td>28.875535</td>\n      <td>31.889425</td>\n      <td>35.446354</td>\n    </tr>\n    <tr>\n      <th>5</th>\n      <td>2018.0</td>\n      <td>1.210718</td>\n      <td>1.937481</td>\n      <td>1.289692</td>\n      <td>32.548697</td>\n      <td>29.029351</td>\n      <td>31.987304</td>\n      <td>35.494753</td>\n    </tr>\n  </tbody>\n</table>\n</div>"
     },
     "execution_count": 11,
     "metadata": {},
     "output_type": "execute_result"
    }
   ],
   "source": [
    "dati_fecondità_anni = data.parse(sheet_name=\"3.6\", header=7, nrows=6)\n",
    "colonne_nan = [dati_fecondità_anni.columns[4], dati_fecondità_anni.columns[8]]\n",
    "dati_fecondità_anni = dati_fecondità_anni.drop(colonne_nan, axis=1)\n",
    "dati_fecondità_anni = dati_fecondità_anni.drop(1, axis=0)\n",
    "dati_fecondità_anni"
   ],
   "metadata": {
    "collapsed": false,
    "pycharm": {
     "name": "#%%\n"
    }
   }
  },
  {
   "cell_type": "markdown",
   "source": [
    "---\n",
    "I dati di sotto sono stati estratti dalla tabella originale (3.6), quindi hanno gli stessi nomi delle colonne di quella di sopra"
   ],
   "metadata": {
    "collapsed": false,
    "pycharm": {
     "name": "#%% md\n"
    }
   }
  },
  {
   "cell_type": "code",
   "execution_count": 12,
   "outputs": [
    {
     "data": {
      "text/plain": "                           Regione  Italiana  Straniera    Totale   Italiana  \\\n0                         Piemonte  1.152717   1.958290  1.266104  32.779611   \n1   \\nValle d'Aosta/Vallée d'Aoste  1.246791   1.943801  1.309894  32.650467   \n2                          Liguria  1.080542   2.000146  1.213661  33.221114   \n3                        Lombardia  1.175066   2.134895  1.325625  33.149258   \n4     Trentino-Alto Adige/Südtirol  1.453726   2.462518  1.568312  32.480020   \n5                    Bolzano/Bozen  1.598134   2.607874  1.714708  32.128225   \n6                           Trento  1.302937   2.308228  1.416963  32.937440   \n7                           Veneto  1.158749   2.100137  1.292146  33.120928   \n8            Friuli-Venezia Giulia  1.125529   2.071901  1.250708  32.999801   \n9                   Emilia-Romagna  1.122881   2.088406  1.300399  32.913877   \n10                         Toscana  1.089402   1.868419  1.205575  33.392677   \n11                          Umbria  1.109860   1.731541  1.198163  32.869803   \n12                          Marche  1.081434   1.957812  1.191790  33.177635   \n13                           Lazio  1.122209   1.686819  1.181153  33.302212   \n14                         Abruzzo  1.121135   1.779971  1.169914  33.049524   \n15                          Molise  1.124365   1.764275  1.154751  33.026920   \n16                        Campania  1.296935   1.824021  1.313243  31.894159   \n17                          Puglia  1.174655   1.979321  1.204401  32.209009   \n18                      Basilicata  1.117332   1.813476  1.151234  33.108440   \n19                        Calabria  1.240747   1.658648  1.260535  32.163804   \n20                         Sicilia  1.301429   2.054693  1.330363  31.525179   \n21                        Sardegna  0.971587   1.556226  0.996965  32.970586   \n22                      Nord-ovest  1.161745   2.080134  1.300556  33.054083   \n23                        Nord-est  1.172555   2.121209  1.317940  32.947252   \n24                          Centro  1.106369   1.781443  1.191012  33.281602   \n25                             Sud  1.230947   1.822769  1.254425  32.161014   \n26                           Isole  1.229829   1.952335  1.258223  31.770160   \n27                          ITALIA  1.182006   1.983631  1.267032  32.654888   \n\n    Straniera     Totale  Età media del padre  \n0   29.398476  32.103348            35.629804  \n1   28.982930  32.188657            35.396699  \n2   28.788941  32.230680            35.878240  \n3   29.254256  32.230251            35.814704  \n4   29.448120  32.001031            35.469309  \n5   29.713267  31.782733            35.254572  \n6   29.097688  32.282811            35.755792  \n7   29.157202  32.272815            35.807495  \n8   29.014967  32.197553            35.790432  \n9   29.303342  31.937527            35.697134  \n10  28.958913  32.377276            35.897949  \n11  29.291937  32.139884            35.769542  \n12  29.203898  32.412469            36.139882  \n13  29.072363  32.556311            35.938780  \n14  28.592328  32.504086            35.988539  \n15  27.956711  32.597626            36.296324  \n16  28.859789  31.734821            34.974083  \n17  28.369954  31.976133            35.311895  \n18  28.880453  32.780108            36.471053  \n19  28.905910  31.910740            35.763647  \n20  28.624595  31.354360            34.852876  \n21  29.747560  32.768730            36.493628  \n22  29.251206  32.199073            35.770415  \n23  29.234765  32.104941            35.715062  \n24  29.047446  32.454273            35.939562  \n25  28.689686  31.934930            35.326191  \n26  28.788476  31.593178            35.114387  \n27  29.110605  32.093009            35.601545  ",
      "text/html": "<div>\n<style scoped>\n    .dataframe tbody tr th:only-of-type {\n        vertical-align: middle;\n    }\n\n    .dataframe tbody tr th {\n        vertical-align: top;\n    }\n\n    .dataframe thead th {\n        text-align: right;\n    }\n</style>\n<table border=\"1\" class=\"dataframe\">\n  <thead>\n    <tr style=\"text-align: right;\">\n      <th></th>\n      <th>Regione</th>\n      <th>Italiana</th>\n      <th>Straniera</th>\n      <th>Totale</th>\n      <th>Italiana</th>\n      <th>Straniera</th>\n      <th>Totale</th>\n      <th>Età media del padre</th>\n    </tr>\n  </thead>\n  <tbody>\n    <tr>\n      <th>0</th>\n      <td>Piemonte</td>\n      <td>1.152717</td>\n      <td>1.958290</td>\n      <td>1.266104</td>\n      <td>32.779611</td>\n      <td>29.398476</td>\n      <td>32.103348</td>\n      <td>35.629804</td>\n    </tr>\n    <tr>\n      <th>1</th>\n      <td>\\nValle d'Aosta/Vallée d'Aoste</td>\n      <td>1.246791</td>\n      <td>1.943801</td>\n      <td>1.309894</td>\n      <td>32.650467</td>\n      <td>28.982930</td>\n      <td>32.188657</td>\n      <td>35.396699</td>\n    </tr>\n    <tr>\n      <th>2</th>\n      <td>Liguria</td>\n      <td>1.080542</td>\n      <td>2.000146</td>\n      <td>1.213661</td>\n      <td>33.221114</td>\n      <td>28.788941</td>\n      <td>32.230680</td>\n      <td>35.878240</td>\n    </tr>\n    <tr>\n      <th>3</th>\n      <td>Lombardia</td>\n      <td>1.175066</td>\n      <td>2.134895</td>\n      <td>1.325625</td>\n      <td>33.149258</td>\n      <td>29.254256</td>\n      <td>32.230251</td>\n      <td>35.814704</td>\n    </tr>\n    <tr>\n      <th>4</th>\n      <td>Trentino-Alto Adige/Südtirol</td>\n      <td>1.453726</td>\n      <td>2.462518</td>\n      <td>1.568312</td>\n      <td>32.480020</td>\n      <td>29.448120</td>\n      <td>32.001031</td>\n      <td>35.469309</td>\n    </tr>\n    <tr>\n      <th>5</th>\n      <td>Bolzano/Bozen</td>\n      <td>1.598134</td>\n      <td>2.607874</td>\n      <td>1.714708</td>\n      <td>32.128225</td>\n      <td>29.713267</td>\n      <td>31.782733</td>\n      <td>35.254572</td>\n    </tr>\n    <tr>\n      <th>6</th>\n      <td>Trento</td>\n      <td>1.302937</td>\n      <td>2.308228</td>\n      <td>1.416963</td>\n      <td>32.937440</td>\n      <td>29.097688</td>\n      <td>32.282811</td>\n      <td>35.755792</td>\n    </tr>\n    <tr>\n      <th>7</th>\n      <td>Veneto</td>\n      <td>1.158749</td>\n      <td>2.100137</td>\n      <td>1.292146</td>\n      <td>33.120928</td>\n      <td>29.157202</td>\n      <td>32.272815</td>\n      <td>35.807495</td>\n    </tr>\n    <tr>\n      <th>8</th>\n      <td>Friuli-Venezia Giulia</td>\n      <td>1.125529</td>\n      <td>2.071901</td>\n      <td>1.250708</td>\n      <td>32.999801</td>\n      <td>29.014967</td>\n      <td>32.197553</td>\n      <td>35.790432</td>\n    </tr>\n    <tr>\n      <th>9</th>\n      <td>Emilia-Romagna</td>\n      <td>1.122881</td>\n      <td>2.088406</td>\n      <td>1.300399</td>\n      <td>32.913877</td>\n      <td>29.303342</td>\n      <td>31.937527</td>\n      <td>35.697134</td>\n    </tr>\n    <tr>\n      <th>10</th>\n      <td>Toscana</td>\n      <td>1.089402</td>\n      <td>1.868419</td>\n      <td>1.205575</td>\n      <td>33.392677</td>\n      <td>28.958913</td>\n      <td>32.377276</td>\n      <td>35.897949</td>\n    </tr>\n    <tr>\n      <th>11</th>\n      <td>Umbria</td>\n      <td>1.109860</td>\n      <td>1.731541</td>\n      <td>1.198163</td>\n      <td>32.869803</td>\n      <td>29.291937</td>\n      <td>32.139884</td>\n      <td>35.769542</td>\n    </tr>\n    <tr>\n      <th>12</th>\n      <td>Marche</td>\n      <td>1.081434</td>\n      <td>1.957812</td>\n      <td>1.191790</td>\n      <td>33.177635</td>\n      <td>29.203898</td>\n      <td>32.412469</td>\n      <td>36.139882</td>\n    </tr>\n    <tr>\n      <th>13</th>\n      <td>Lazio</td>\n      <td>1.122209</td>\n      <td>1.686819</td>\n      <td>1.181153</td>\n      <td>33.302212</td>\n      <td>29.072363</td>\n      <td>32.556311</td>\n      <td>35.938780</td>\n    </tr>\n    <tr>\n      <th>14</th>\n      <td>Abruzzo</td>\n      <td>1.121135</td>\n      <td>1.779971</td>\n      <td>1.169914</td>\n      <td>33.049524</td>\n      <td>28.592328</td>\n      <td>32.504086</td>\n      <td>35.988539</td>\n    </tr>\n    <tr>\n      <th>15</th>\n      <td>Molise</td>\n      <td>1.124365</td>\n      <td>1.764275</td>\n      <td>1.154751</td>\n      <td>33.026920</td>\n      <td>27.956711</td>\n      <td>32.597626</td>\n      <td>36.296324</td>\n    </tr>\n    <tr>\n      <th>16</th>\n      <td>Campania</td>\n      <td>1.296935</td>\n      <td>1.824021</td>\n      <td>1.313243</td>\n      <td>31.894159</td>\n      <td>28.859789</td>\n      <td>31.734821</td>\n      <td>34.974083</td>\n    </tr>\n    <tr>\n      <th>17</th>\n      <td>Puglia</td>\n      <td>1.174655</td>\n      <td>1.979321</td>\n      <td>1.204401</td>\n      <td>32.209009</td>\n      <td>28.369954</td>\n      <td>31.976133</td>\n      <td>35.311895</td>\n    </tr>\n    <tr>\n      <th>18</th>\n      <td>Basilicata</td>\n      <td>1.117332</td>\n      <td>1.813476</td>\n      <td>1.151234</td>\n      <td>33.108440</td>\n      <td>28.880453</td>\n      <td>32.780108</td>\n      <td>36.471053</td>\n    </tr>\n    <tr>\n      <th>19</th>\n      <td>Calabria</td>\n      <td>1.240747</td>\n      <td>1.658648</td>\n      <td>1.260535</td>\n      <td>32.163804</td>\n      <td>28.905910</td>\n      <td>31.910740</td>\n      <td>35.763647</td>\n    </tr>\n    <tr>\n      <th>20</th>\n      <td>Sicilia</td>\n      <td>1.301429</td>\n      <td>2.054693</td>\n      <td>1.330363</td>\n      <td>31.525179</td>\n      <td>28.624595</td>\n      <td>31.354360</td>\n      <td>34.852876</td>\n    </tr>\n    <tr>\n      <th>21</th>\n      <td>Sardegna</td>\n      <td>0.971587</td>\n      <td>1.556226</td>\n      <td>0.996965</td>\n      <td>32.970586</td>\n      <td>29.747560</td>\n      <td>32.768730</td>\n      <td>36.493628</td>\n    </tr>\n    <tr>\n      <th>22</th>\n      <td>Nord-ovest</td>\n      <td>1.161745</td>\n      <td>2.080134</td>\n      <td>1.300556</td>\n      <td>33.054083</td>\n      <td>29.251206</td>\n      <td>32.199073</td>\n      <td>35.770415</td>\n    </tr>\n    <tr>\n      <th>23</th>\n      <td>Nord-est</td>\n      <td>1.172555</td>\n      <td>2.121209</td>\n      <td>1.317940</td>\n      <td>32.947252</td>\n      <td>29.234765</td>\n      <td>32.104941</td>\n      <td>35.715062</td>\n    </tr>\n    <tr>\n      <th>24</th>\n      <td>Centro</td>\n      <td>1.106369</td>\n      <td>1.781443</td>\n      <td>1.191012</td>\n      <td>33.281602</td>\n      <td>29.047446</td>\n      <td>32.454273</td>\n      <td>35.939562</td>\n    </tr>\n    <tr>\n      <th>25</th>\n      <td>Sud</td>\n      <td>1.230947</td>\n      <td>1.822769</td>\n      <td>1.254425</td>\n      <td>32.161014</td>\n      <td>28.689686</td>\n      <td>31.934930</td>\n      <td>35.326191</td>\n    </tr>\n    <tr>\n      <th>26</th>\n      <td>Isole</td>\n      <td>1.229829</td>\n      <td>1.952335</td>\n      <td>1.258223</td>\n      <td>31.770160</td>\n      <td>28.788476</td>\n      <td>31.593178</td>\n      <td>35.114387</td>\n    </tr>\n    <tr>\n      <th>27</th>\n      <td>ITALIA</td>\n      <td>1.182006</td>\n      <td>1.983631</td>\n      <td>1.267032</td>\n      <td>32.654888</td>\n      <td>29.110605</td>\n      <td>32.093009</td>\n      <td>35.601545</td>\n    </tr>\n  </tbody>\n</table>\n</div>"
     },
     "execution_count": 12,
     "metadata": {},
     "output_type": "execute_result"
    }
   ],
   "source": [
    "dati_fecondità_regioni2019 = data.parse(sheet_name=\"3.6\", header=16, nrows=28)\n",
    "dati_fecondità_regioni2019 = dati_fecondità_regioni2019.drop(colonne_nan, axis=1)\n",
    "dati_fecondità_regioni2019.columns = [\"Regione\",\n",
    "                                      \"Italiana\",\n",
    "                                      \"Straniera\",\n",
    "                                      \"Totale\",\n",
    "                                      \"Italiana\",\n",
    "                                      \"Straniera\",\n",
    "                                      \"Totale\",\n",
    "                                      \"Età media del padre\"]\n",
    "dati_fecondità_regioni2019"
   ],
   "metadata": {
    "collapsed": false,
    "pycharm": {
     "name": "#%%\n"
    }
   }
  },
  {
   "cell_type": "markdown",
   "source": [],
   "metadata": {
    "collapsed": false,
    "pycharm": {
     "name": "#%% md\n"
    }
   }
  },
  {
   "cell_type": "markdown",
   "source": [],
   "metadata": {
    "collapsed": false,
    "pycharm": {
     "name": "#%% md\n"
    }
   }
  },
  {
   "cell_type": "markdown",
   "source": [
    "---\n",
    "## 3.7: Nati vivi per filiazione, tipologia di coppia e regione"
   ],
   "metadata": {
    "collapsed": false,
    "pycharm": {
     "name": "#%% md\n"
    }
   }
  },
  {
   "cell_type": "code",
   "execution_count": 78,
   "outputs": [
    {
     "data": {
      "text/plain": "     Anno All'interno del matrimonio (valori assoluti)  \\\n2  2015.0                                       346169   \n3  2016.0                                       331681   \n4  2017.0                                       316543   \n5  2018.0                                       297768   \n\n  All'interno del matrimonio (%) Fuori dal matrimonio (valori assoluti)  \\\n2                      71.260447                                 139611   \n3                      70.057959                                 141757   \n4                      69.091413                                 141608   \n5                      67.713481                                 141979   \n\n  Fuori dal matrimonio (%) Genitori entrambi italiani (valori assoluti)  \\\n2                28.739553                                       385014   \n3                29.942041                                       373075   \n4                30.908587                                       358940   \n5                32.286519                                       343169   \n\n  Genitori entrambi italiani (%)  \\\n2                      79.256865   \n3                      78.801237   \n4                      78.345349   \n5                      78.037826   \n\n  Genitori entrambi stranieri (valori assoluti)  \\\n2                                         72096   \n3                                         69379   \n4                                         67933   \n5                                         65444   \n\n  Genitori entrambi stranieri (%)  \\\n2                       14.841286   \n3                       14.654295   \n4                       14.827644   \n5                       14.882194   \n\n  Madre italiana e padre straniero (valori assoluti)  \\\n2                                               6497   \n3                                               7142   \n4                                               7466   \n5                                               7932   \n\n  Madre italiana e padre straniero (%)  \\\n2                             1.337437   \n3                              1.50854   \n4                             1.629594   \n5                             1.803764   \n\n  Madre straniera e padre italiano (valori assoluti)  \\\n2                                              22173   \n3                                              23842   \n4                                              23812   \n5                                              23202   \n\n  Madre straniera e padre italiano (%) Totale (valori assoluti)  \n2                             4.564412                   485780  \n3                             5.035929                   473438  \n4                             5.197413                   458151  \n5                             5.276216                   439747  ",
      "text/html": "<div>\n<style scoped>\n    .dataframe tbody tr th:only-of-type {\n        vertical-align: middle;\n    }\n\n    .dataframe tbody tr th {\n        vertical-align: top;\n    }\n\n    .dataframe thead th {\n        text-align: right;\n    }\n</style>\n<table border=\"1\" class=\"dataframe\">\n  <thead>\n    <tr style=\"text-align: right;\">\n      <th></th>\n      <th>Anno</th>\n      <th>All'interno del matrimonio (valori assoluti)</th>\n      <th>All'interno del matrimonio (%)</th>\n      <th>Fuori dal matrimonio (valori assoluti)</th>\n      <th>Fuori dal matrimonio (%)</th>\n      <th>Genitori entrambi italiani (valori assoluti)</th>\n      <th>Genitori entrambi italiani (%)</th>\n      <th>Genitori entrambi stranieri (valori assoluti)</th>\n      <th>Genitori entrambi stranieri (%)</th>\n      <th>Madre italiana e padre straniero (valori assoluti)</th>\n      <th>Madre italiana e padre straniero (%)</th>\n      <th>Madre straniera e padre italiano (valori assoluti)</th>\n      <th>Madre straniera e padre italiano (%)</th>\n      <th>Totale (valori assoluti)</th>\n    </tr>\n  </thead>\n  <tbody>\n    <tr>\n      <th>2</th>\n      <td>2015.0</td>\n      <td>346169</td>\n      <td>71.260447</td>\n      <td>139611</td>\n      <td>28.739553</td>\n      <td>385014</td>\n      <td>79.256865</td>\n      <td>72096</td>\n      <td>14.841286</td>\n      <td>6497</td>\n      <td>1.337437</td>\n      <td>22173</td>\n      <td>4.564412</td>\n      <td>485780</td>\n    </tr>\n    <tr>\n      <th>3</th>\n      <td>2016.0</td>\n      <td>331681</td>\n      <td>70.057959</td>\n      <td>141757</td>\n      <td>29.942041</td>\n      <td>373075</td>\n      <td>78.801237</td>\n      <td>69379</td>\n      <td>14.654295</td>\n      <td>7142</td>\n      <td>1.50854</td>\n      <td>23842</td>\n      <td>5.035929</td>\n      <td>473438</td>\n    </tr>\n    <tr>\n      <th>4</th>\n      <td>2017.0</td>\n      <td>316543</td>\n      <td>69.091413</td>\n      <td>141608</td>\n      <td>30.908587</td>\n      <td>358940</td>\n      <td>78.345349</td>\n      <td>67933</td>\n      <td>14.827644</td>\n      <td>7466</td>\n      <td>1.629594</td>\n      <td>23812</td>\n      <td>5.197413</td>\n      <td>458151</td>\n    </tr>\n    <tr>\n      <th>5</th>\n      <td>2018.0</td>\n      <td>297768</td>\n      <td>67.713481</td>\n      <td>141979</td>\n      <td>32.286519</td>\n      <td>343169</td>\n      <td>78.037826</td>\n      <td>65444</td>\n      <td>14.882194</td>\n      <td>7932</td>\n      <td>1.803764</td>\n      <td>23202</td>\n      <td>5.276216</td>\n      <td>439747</td>\n    </tr>\n  </tbody>\n</table>\n</div>"
     },
     "execution_count": 78,
     "metadata": {},
     "output_type": "execute_result"
    }
   ],
   "source": [
    "filiazione_tipocoppia = data.parse(sheet_name=\"3.7\", header=8, nrows=6)\n",
    "\n",
    "colonne_nan = [value for position, value in enumerate(filiazione_tipocoppia.columns) if\n",
    "               position in [3, 6, 9, 12, 15, 18]]\n",
    "\n",
    "filiazione_tipocoppia = filiazione_tipocoppia.drop(colonne_nan, axis=1)\n",
    "filiazione_tipocoppia = filiazione_tipocoppia.drop([0, 1], axis=0)\n",
    "\n",
    "filiazione_tipocoppia.columns = [\"Anno\",\n",
    "                                 \"All'interno del matrimonio (valori assoluti)\",\n",
    "                                 \"All'interno del matrimonio (%)\",\n",
    "                                 \"Fuori dal matrimonio (valori assoluti)\",\n",
    "                                 \"Fuori dal matrimonio (%)\",\n",
    "                                 \"Genitori entrambi italiani (valori assoluti)\",\n",
    "                                 \"Genitori entrambi italiani (%)\",\n",
    "                                 \"Genitori entrambi stranieri (valori assoluti)\",\n",
    "                                 \"Genitori entrambi stranieri (%)\",\n",
    "                                 \"Madre italiana e padre straniero (valori assoluti)\",\n",
    "                                 \"Madre italiana e padre straniero (%)\",\n",
    "                                 \"Madre straniera e padre italiano (valori assoluti)\",\n",
    "                                 \"Madre straniera e padre italiano (%)\",\n",
    "                                 \"Totale (valori assoluti)\"\n",
    "                                 ]\n",
    "filiazione_tipocoppia"
   ],
   "metadata": {
    "collapsed": false,
    "pycharm": {
     "name": "#%%\n"
    }
   }
  },
  {
   "cell_type": "code",
   "execution_count": 42,
   "outputs": [
    {
     "data": {
      "text/plain": "                         Regione  \\\n0                       Piemonte   \n1   Valle d'Aosta/Vallée d'Aoste   \n2                        Liguria   \n3                      Lombardia   \n4   Trentino-Alto Adige/Südtirol   \n5                  Bolzano/Bozen   \n6                         Trento   \n7                         Veneto   \n8          Friuli-Venezia Giulia   \n9                 Emilia-Romagna   \n10                       Toscana   \n11                        Umbria   \n12                        Marche   \n13                         Lazio   \n14                       Abruzzo   \n15                        Molise   \n16                      Campania   \n17                        Puglia   \n18                    Basilicata   \n19                      Calabria   \n20                       Sicilia   \n21                      Sardegna   \n22                    Nord-ovest   \n23                      Nord-est   \n24                        Centro   \n25                           Sud   \n26                         Isole   \n27                        ITALIA   \n\n    All'interno del matrimonio (valori assoluti)  \\\n0                                          17326   \n1                                            486   \n2                                           5320   \n3                                          48539   \n4                                           5446   \n5                                           2828   \n6                                           2618   \n7                                          22110   \n8                                           4866   \n9                                          19514   \n10                                         13677   \n11                                          3426   \n12                                          6131   \n13                                         23721   \n14                                          5510   \n15                                          1379   \n16                                         35568   \n17                                         19423   \n18                                          2858   \n19                                         11326   \n20                                         28196   \n21                                          4922   \n22                                         71671   \n23                                         51936   \n24                                         46955   \n25                                         76064   \n26                                         33118   \n27                                        279744   \n\n    All'interno del matrimonio (%)  Fuori dal matrimonio (valori assoluti)  \\\n0                        61.940512                                   10646   \n1                        57.788347                                     355   \n2                        60.820853                                    3427   \n3                        66.385382                                   24578   \n4                        57.489708                                    4027   \n5                        54.031334                                    2406   \n6                        61.759849                                    1621   \n7                        65.889856                                   11446   \n8                        64.923282                                    2629   \n9                        63.107173                                   11408   \n10                       58.321607                                    9774   \n11                       61.430877                                    2151   \n12                       63.421951                                    3536   \n13                       61.002957                                   15164   \n14                       64.823529                                    2990   \n15                       71.562013                                     548   \n16                       76.112217                                   11163   \n17                       70.408903                                    8163   \n18                       77.832244                                     814   \n19                       78.158857                                    3165   \n20                       73.016366                                   10420   \n21                       55.565590                                    3936   \n22                       64.756905                                   39006   \n23                       63.767404                                   29510   \n24                       60.524620                                   30625   \n25                       73.915283                                   26843   \n26                       69.760290                                   14356   \n27                       66.592396                                  140340   \n\n    Fuori dal matrimonio (%)  Genitori entrambi italiani (valori assoluti)  \\\n0                  38.059488                                         20214   \n1                  42.211653                                           674   \n2                  39.179147                                          6149   \n3                  33.614618                                         50224   \n4                  42.510292                                          6977   \n5                  45.968666                                          3874   \n6                  38.240151                                          3103   \n7                  34.110144                                         23511   \n8                  35.076718                                          5453   \n9                  36.892827                                         20226   \n10                 41.678393                                         16723   \n11                 38.569123                                          4084   \n12                 36.578049                                          7176   \n13                 38.997043                                         29783   \n14                 35.176471                                          7078   \n15                 28.437987                                          1711   \n16                 23.887783                                         42935   \n17                 29.591097                                         25219   \n18                 22.167756                                          3289   \n19                 21.841143                                         12931   \n20                 26.983634                                         35280   \n21                 44.434410                                          8087   \n22                 35.243095                                         77261   \n23                 36.232596                                         56167   \n24                 39.475380                                         57766   \n25                 26.084717                                         93163   \n26                 30.239710                                         43367   \n27                 33.407604                                        327724   \n\n    Genitori entrambi italiani (%)  \\\n0                        72.265122   \n1                        80.142687   \n2                        70.298388   \n3                        68.689908   \n4                        73.651430   \n5                        74.016049   \n6                        73.201227   \n7                        70.064966   \n8                        72.755170   \n9                        65.409741   \n10                       71.310392   \n11                       73.229335   \n12                       74.231923   \n13                       76.592516   \n14                       83.270588   \n15                       88.790867   \n16                       91.876913   \n17                       91.419561   \n18                       89.569717   \n19                       89.234697   \n20                       91.361094   \n21                       91.296004   \n22                       69.807638   \n23                       68.962257   \n24                       74.459912   \n25                       90.531256   \n26                       91.348949   \n27                       78.013921   \n\n    Genitori entrambi stranieri (valori assoluti)  \\\n0                                            5376   \n1                                             104   \n2                                            1758   \n3                                           16108   \n4                                            1473   \n5                                             766   \n6                                             707   \n7                                            6792   \n8                                            1291   \n9                                            7735   \n10                                           4719   \n11                                            981   \n12                                           1548   \n13                                           6279   \n14                                            854   \n15                                            111   \n16                                           2539   \n17                                           1525   \n18                                            233   \n19                                            971   \n20                                           2143   \n21                                            378   \n22                                          23346   \n23                                          17291   \n24                                          13527   \n25                                           6233   \n26                                           2521   \n27                                          62918   \n\n    Genitori entrambi stranieri (%)  \\\n0                         19.219219   \n1                         12.366231   \n2                         20.098319   \n3                         22.030444   \n4                         15.549456   \n5                         14.635078   \n6                         16.678462   \n7                         20.240792   \n8                         17.224817   \n9                         25.014553   \n10                        20.122809   \n11                        17.590102   \n12                        16.013241   \n13                        16.147615   \n14                        10.047059   \n15                         5.760249   \n16                         5.433224   \n17                         5.528166   \n18                         6.345316   \n19                         6.700711   \n20                         5.549513   \n21                         4.267329   \n22                        21.093814   \n23                        21.230017   \n24                        17.436195   \n25                         6.056925   \n26                         5.310275   \n27                        14.977481   \n\n    Madre italiana e padre straniero (valori assoluti)  \\\n0                                                 615    \n1                                                  21    \n2                                                 247    \n3                                                1681    \n4                                                 359    \n5                                                 209    \n6                                                 150    \n7                                                 869    \n8                                                 203    \n9                                                 759    \n10                                                519    \n11                                                126    \n12                                                238    \n13                                                790    \n14                                                145    \n15                                                 25    \n16                                                270    \n17                                                218    \n18                                                 27    \n19                                                112    \n20                                                289    \n21                                                 76    \n22                                               2564    \n23                                               2190    \n24                                               1673    \n25                                                797    \n26                                                365    \n27                                               7589    \n\n    Madre italiana e padre straniero (%)  \\\n0                               2.198627   \n1                               2.497027   \n2                               2.823825   \n3                               2.299055   \n4                               3.789718   \n5                               3.993122   \n6                               3.538570   \n7                               2.589701   \n8                               2.708472   \n9                               2.454563   \n10                              2.213125   \n11                              2.259279   \n12                              2.461984   \n13                              2.031632   \n14                              1.705882   \n15                              1.297353   \n16                              0.577775   \n17                              0.790256   \n18                              0.735294   \n19                              0.772894   \n20                              0.748394   \n21                              0.857981   \n22                              2.316651   \n23                              2.688898   \n24                              2.156484   \n25                              0.774486   \n26                              0.768842   \n27                              1.806543   \n\n    Madre straniera e padre italiano (valori assoluti)  \\\n0                                                1767    \n1                                                  42    \n2                                                 593    \n3                                                5104    \n4                                                 664    \n5                                                 385    \n6                                                 279    \n7                                                2384    \n8                                                 548    \n9                                                2202    \n10                                               1490    \n11                                                386    \n12                                                705    \n13                                               2033    \n14                                                423    \n15                                                 80    \n16                                                987    \n17                                                624    \n18                                                123    \n19                                                477    \n20                                                904    \n21                                                317    \n22                                               7506    \n23                                               5798    \n24                                               4614    \n25                                               2714    \n26                                               1221    \n27                                              21853    \n\n    Madre straniera e padre italiano (%)  Totale (valori assoluti)  \n0                               6.317031                     27972  \n1                               4.994055                       841  \n2                               6.779467                      8747  \n3                               6.980593                     73117  \n4                               7.009395                      9473  \n5                               7.355751                      5234  \n6                               6.581741                      4239  \n7                               7.104542                     33556  \n8                               7.311541                      7495  \n9                               7.121144                     30922  \n10                              6.353674                     23451  \n11                              6.921284                      5577  \n12                              7.292852                      9667  \n13                              5.228237                     38885  \n14                              4.976471                      8500  \n15                              4.151531                      1927  \n16                              2.112088                     46731  \n17                              2.262017                     27586  \n18                              3.349673                      3672  \n19                              3.291698                     14491  \n20                              2.340999                     38616  \n21                              3.578686                      8858  \n22                              6.781897                    110677  \n23                              7.118827                     81446  \n24                              5.947409                     77580  \n25                              2.637333                    102907  \n26                              2.571934                     47474  \n27                              5.202055                    420084  ",
      "text/html": "<div>\n<style scoped>\n    .dataframe tbody tr th:only-of-type {\n        vertical-align: middle;\n    }\n\n    .dataframe tbody tr th {\n        vertical-align: top;\n    }\n\n    .dataframe thead th {\n        text-align: right;\n    }\n</style>\n<table border=\"1\" class=\"dataframe\">\n  <thead>\n    <tr style=\"text-align: right;\">\n      <th></th>\n      <th>Regione</th>\n      <th>All'interno del matrimonio (valori assoluti)</th>\n      <th>All'interno del matrimonio (%)</th>\n      <th>Fuori dal matrimonio (valori assoluti)</th>\n      <th>Fuori dal matrimonio (%)</th>\n      <th>Genitori entrambi italiani (valori assoluti)</th>\n      <th>Genitori entrambi italiani (%)</th>\n      <th>Genitori entrambi stranieri (valori assoluti)</th>\n      <th>Genitori entrambi stranieri (%)</th>\n      <th>Madre italiana e padre straniero (valori assoluti)</th>\n      <th>Madre italiana e padre straniero (%)</th>\n      <th>Madre straniera e padre italiano (valori assoluti)</th>\n      <th>Madre straniera e padre italiano (%)</th>\n      <th>Totale (valori assoluti)</th>\n    </tr>\n  </thead>\n  <tbody>\n    <tr>\n      <th>0</th>\n      <td>Piemonte</td>\n      <td>17326</td>\n      <td>61.940512</td>\n      <td>10646</td>\n      <td>38.059488</td>\n      <td>20214</td>\n      <td>72.265122</td>\n      <td>5376</td>\n      <td>19.219219</td>\n      <td>615</td>\n      <td>2.198627</td>\n      <td>1767</td>\n      <td>6.317031</td>\n      <td>27972</td>\n    </tr>\n    <tr>\n      <th>1</th>\n      <td>Valle d'Aosta/Vallée d'Aoste</td>\n      <td>486</td>\n      <td>57.788347</td>\n      <td>355</td>\n      <td>42.211653</td>\n      <td>674</td>\n      <td>80.142687</td>\n      <td>104</td>\n      <td>12.366231</td>\n      <td>21</td>\n      <td>2.497027</td>\n      <td>42</td>\n      <td>4.994055</td>\n      <td>841</td>\n    </tr>\n    <tr>\n      <th>2</th>\n      <td>Liguria</td>\n      <td>5320</td>\n      <td>60.820853</td>\n      <td>3427</td>\n      <td>39.179147</td>\n      <td>6149</td>\n      <td>70.298388</td>\n      <td>1758</td>\n      <td>20.098319</td>\n      <td>247</td>\n      <td>2.823825</td>\n      <td>593</td>\n      <td>6.779467</td>\n      <td>8747</td>\n    </tr>\n    <tr>\n      <th>3</th>\n      <td>Lombardia</td>\n      <td>48539</td>\n      <td>66.385382</td>\n      <td>24578</td>\n      <td>33.614618</td>\n      <td>50224</td>\n      <td>68.689908</td>\n      <td>16108</td>\n      <td>22.030444</td>\n      <td>1681</td>\n      <td>2.299055</td>\n      <td>5104</td>\n      <td>6.980593</td>\n      <td>73117</td>\n    </tr>\n    <tr>\n      <th>4</th>\n      <td>Trentino-Alto Adige/Südtirol</td>\n      <td>5446</td>\n      <td>57.489708</td>\n      <td>4027</td>\n      <td>42.510292</td>\n      <td>6977</td>\n      <td>73.651430</td>\n      <td>1473</td>\n      <td>15.549456</td>\n      <td>359</td>\n      <td>3.789718</td>\n      <td>664</td>\n      <td>7.009395</td>\n      <td>9473</td>\n    </tr>\n    <tr>\n      <th>5</th>\n      <td>Bolzano/Bozen</td>\n      <td>2828</td>\n      <td>54.031334</td>\n      <td>2406</td>\n      <td>45.968666</td>\n      <td>3874</td>\n      <td>74.016049</td>\n      <td>766</td>\n      <td>14.635078</td>\n      <td>209</td>\n      <td>3.993122</td>\n      <td>385</td>\n      <td>7.355751</td>\n      <td>5234</td>\n    </tr>\n    <tr>\n      <th>6</th>\n      <td>Trento</td>\n      <td>2618</td>\n      <td>61.759849</td>\n      <td>1621</td>\n      <td>38.240151</td>\n      <td>3103</td>\n      <td>73.201227</td>\n      <td>707</td>\n      <td>16.678462</td>\n      <td>150</td>\n      <td>3.538570</td>\n      <td>279</td>\n      <td>6.581741</td>\n      <td>4239</td>\n    </tr>\n    <tr>\n      <th>7</th>\n      <td>Veneto</td>\n      <td>22110</td>\n      <td>65.889856</td>\n      <td>11446</td>\n      <td>34.110144</td>\n      <td>23511</td>\n      <td>70.064966</td>\n      <td>6792</td>\n      <td>20.240792</td>\n      <td>869</td>\n      <td>2.589701</td>\n      <td>2384</td>\n      <td>7.104542</td>\n      <td>33556</td>\n    </tr>\n    <tr>\n      <th>8</th>\n      <td>Friuli-Venezia Giulia</td>\n      <td>4866</td>\n      <td>64.923282</td>\n      <td>2629</td>\n      <td>35.076718</td>\n      <td>5453</td>\n      <td>72.755170</td>\n      <td>1291</td>\n      <td>17.224817</td>\n      <td>203</td>\n      <td>2.708472</td>\n      <td>548</td>\n      <td>7.311541</td>\n      <td>7495</td>\n    </tr>\n    <tr>\n      <th>9</th>\n      <td>Emilia-Romagna</td>\n      <td>19514</td>\n      <td>63.107173</td>\n      <td>11408</td>\n      <td>36.892827</td>\n      <td>20226</td>\n      <td>65.409741</td>\n      <td>7735</td>\n      <td>25.014553</td>\n      <td>759</td>\n      <td>2.454563</td>\n      <td>2202</td>\n      <td>7.121144</td>\n      <td>30922</td>\n    </tr>\n    <tr>\n      <th>10</th>\n      <td>Toscana</td>\n      <td>13677</td>\n      <td>58.321607</td>\n      <td>9774</td>\n      <td>41.678393</td>\n      <td>16723</td>\n      <td>71.310392</td>\n      <td>4719</td>\n      <td>20.122809</td>\n      <td>519</td>\n      <td>2.213125</td>\n      <td>1490</td>\n      <td>6.353674</td>\n      <td>23451</td>\n    </tr>\n    <tr>\n      <th>11</th>\n      <td>Umbria</td>\n      <td>3426</td>\n      <td>61.430877</td>\n      <td>2151</td>\n      <td>38.569123</td>\n      <td>4084</td>\n      <td>73.229335</td>\n      <td>981</td>\n      <td>17.590102</td>\n      <td>126</td>\n      <td>2.259279</td>\n      <td>386</td>\n      <td>6.921284</td>\n      <td>5577</td>\n    </tr>\n    <tr>\n      <th>12</th>\n      <td>Marche</td>\n      <td>6131</td>\n      <td>63.421951</td>\n      <td>3536</td>\n      <td>36.578049</td>\n      <td>7176</td>\n      <td>74.231923</td>\n      <td>1548</td>\n      <td>16.013241</td>\n      <td>238</td>\n      <td>2.461984</td>\n      <td>705</td>\n      <td>7.292852</td>\n      <td>9667</td>\n    </tr>\n    <tr>\n      <th>13</th>\n      <td>Lazio</td>\n      <td>23721</td>\n      <td>61.002957</td>\n      <td>15164</td>\n      <td>38.997043</td>\n      <td>29783</td>\n      <td>76.592516</td>\n      <td>6279</td>\n      <td>16.147615</td>\n      <td>790</td>\n      <td>2.031632</td>\n      <td>2033</td>\n      <td>5.228237</td>\n      <td>38885</td>\n    </tr>\n    <tr>\n      <th>14</th>\n      <td>Abruzzo</td>\n      <td>5510</td>\n      <td>64.823529</td>\n      <td>2990</td>\n      <td>35.176471</td>\n      <td>7078</td>\n      <td>83.270588</td>\n      <td>854</td>\n      <td>10.047059</td>\n      <td>145</td>\n      <td>1.705882</td>\n      <td>423</td>\n      <td>4.976471</td>\n      <td>8500</td>\n    </tr>\n    <tr>\n      <th>15</th>\n      <td>Molise</td>\n      <td>1379</td>\n      <td>71.562013</td>\n      <td>548</td>\n      <td>28.437987</td>\n      <td>1711</td>\n      <td>88.790867</td>\n      <td>111</td>\n      <td>5.760249</td>\n      <td>25</td>\n      <td>1.297353</td>\n      <td>80</td>\n      <td>4.151531</td>\n      <td>1927</td>\n    </tr>\n    <tr>\n      <th>16</th>\n      <td>Campania</td>\n      <td>35568</td>\n      <td>76.112217</td>\n      <td>11163</td>\n      <td>23.887783</td>\n      <td>42935</td>\n      <td>91.876913</td>\n      <td>2539</td>\n      <td>5.433224</td>\n      <td>270</td>\n      <td>0.577775</td>\n      <td>987</td>\n      <td>2.112088</td>\n      <td>46731</td>\n    </tr>\n    <tr>\n      <th>17</th>\n      <td>Puglia</td>\n      <td>19423</td>\n      <td>70.408903</td>\n      <td>8163</td>\n      <td>29.591097</td>\n      <td>25219</td>\n      <td>91.419561</td>\n      <td>1525</td>\n      <td>5.528166</td>\n      <td>218</td>\n      <td>0.790256</td>\n      <td>624</td>\n      <td>2.262017</td>\n      <td>27586</td>\n    </tr>\n    <tr>\n      <th>18</th>\n      <td>Basilicata</td>\n      <td>2858</td>\n      <td>77.832244</td>\n      <td>814</td>\n      <td>22.167756</td>\n      <td>3289</td>\n      <td>89.569717</td>\n      <td>233</td>\n      <td>6.345316</td>\n      <td>27</td>\n      <td>0.735294</td>\n      <td>123</td>\n      <td>3.349673</td>\n      <td>3672</td>\n    </tr>\n    <tr>\n      <th>19</th>\n      <td>Calabria</td>\n      <td>11326</td>\n      <td>78.158857</td>\n      <td>3165</td>\n      <td>21.841143</td>\n      <td>12931</td>\n      <td>89.234697</td>\n      <td>971</td>\n      <td>6.700711</td>\n      <td>112</td>\n      <td>0.772894</td>\n      <td>477</td>\n      <td>3.291698</td>\n      <td>14491</td>\n    </tr>\n    <tr>\n      <th>20</th>\n      <td>Sicilia</td>\n      <td>28196</td>\n      <td>73.016366</td>\n      <td>10420</td>\n      <td>26.983634</td>\n      <td>35280</td>\n      <td>91.361094</td>\n      <td>2143</td>\n      <td>5.549513</td>\n      <td>289</td>\n      <td>0.748394</td>\n      <td>904</td>\n      <td>2.340999</td>\n      <td>38616</td>\n    </tr>\n    <tr>\n      <th>21</th>\n      <td>Sardegna</td>\n      <td>4922</td>\n      <td>55.565590</td>\n      <td>3936</td>\n      <td>44.434410</td>\n      <td>8087</td>\n      <td>91.296004</td>\n      <td>378</td>\n      <td>4.267329</td>\n      <td>76</td>\n      <td>0.857981</td>\n      <td>317</td>\n      <td>3.578686</td>\n      <td>8858</td>\n    </tr>\n    <tr>\n      <th>22</th>\n      <td>Nord-ovest</td>\n      <td>71671</td>\n      <td>64.756905</td>\n      <td>39006</td>\n      <td>35.243095</td>\n      <td>77261</td>\n      <td>69.807638</td>\n      <td>23346</td>\n      <td>21.093814</td>\n      <td>2564</td>\n      <td>2.316651</td>\n      <td>7506</td>\n      <td>6.781897</td>\n      <td>110677</td>\n    </tr>\n    <tr>\n      <th>23</th>\n      <td>Nord-est</td>\n      <td>51936</td>\n      <td>63.767404</td>\n      <td>29510</td>\n      <td>36.232596</td>\n      <td>56167</td>\n      <td>68.962257</td>\n      <td>17291</td>\n      <td>21.230017</td>\n      <td>2190</td>\n      <td>2.688898</td>\n      <td>5798</td>\n      <td>7.118827</td>\n      <td>81446</td>\n    </tr>\n    <tr>\n      <th>24</th>\n      <td>Centro</td>\n      <td>46955</td>\n      <td>60.524620</td>\n      <td>30625</td>\n      <td>39.475380</td>\n      <td>57766</td>\n      <td>74.459912</td>\n      <td>13527</td>\n      <td>17.436195</td>\n      <td>1673</td>\n      <td>2.156484</td>\n      <td>4614</td>\n      <td>5.947409</td>\n      <td>77580</td>\n    </tr>\n    <tr>\n      <th>25</th>\n      <td>Sud</td>\n      <td>76064</td>\n      <td>73.915283</td>\n      <td>26843</td>\n      <td>26.084717</td>\n      <td>93163</td>\n      <td>90.531256</td>\n      <td>6233</td>\n      <td>6.056925</td>\n      <td>797</td>\n      <td>0.774486</td>\n      <td>2714</td>\n      <td>2.637333</td>\n      <td>102907</td>\n    </tr>\n    <tr>\n      <th>26</th>\n      <td>Isole</td>\n      <td>33118</td>\n      <td>69.760290</td>\n      <td>14356</td>\n      <td>30.239710</td>\n      <td>43367</td>\n      <td>91.348949</td>\n      <td>2521</td>\n      <td>5.310275</td>\n      <td>365</td>\n      <td>0.768842</td>\n      <td>1221</td>\n      <td>2.571934</td>\n      <td>47474</td>\n    </tr>\n    <tr>\n      <th>27</th>\n      <td>ITALIA</td>\n      <td>279744</td>\n      <td>66.592396</td>\n      <td>140340</td>\n      <td>33.407604</td>\n      <td>327724</td>\n      <td>78.013921</td>\n      <td>62918</td>\n      <td>14.977481</td>\n      <td>7589</td>\n      <td>1.806543</td>\n      <td>21853</td>\n      <td>5.202055</td>\n      <td>420084</td>\n    </tr>\n  </tbody>\n</table>\n</div>"
     },
     "execution_count": 42,
     "metadata": {},
     "output_type": "execute_result"
    }
   ],
   "source": [
    "filiazione_tipocoppia_reg2019 = data.parse(sheet_name=\"3.7\", header=17, nrows=28)  # , nrows=6)\n",
    "\n",
    "colonne_nan = [value for position, value in enumerate(filiazione_tipocoppia_reg2019.columns) if\n",
    "               position in [3, 6, 9, 12, 15, 18]]\n",
    "\n",
    "filiazione_tipocoppia_reg2019 = filiazione_tipocoppia_reg2019.drop(colonne_nan, axis=1)\n",
    "\n",
    "filiazione_tipocoppia_reg2019.columns = [\"Regione\",\n",
    "                                         \"All'interno del matrimonio (valori assoluti)\",\n",
    "                                         \"All'interno del matrimonio (%)\",\n",
    "                                         \"Fuori dal matrimonio (valori assoluti)\",\n",
    "                                         \"Fuori dal matrimonio (%)\",\n",
    "                                         \"Genitori entrambi italiani (valori assoluti)\",\n",
    "                                         \"Genitori entrambi italiani (%)\",\n",
    "                                         \"Genitori entrambi stranieri (valori assoluti)\",\n",
    "                                         \"Genitori entrambi stranieri (%)\",\n",
    "                                         \"Madre italiana e padre straniero (valori assoluti)\",\n",
    "                                         \"Madre italiana e padre straniero (%)\",\n",
    "                                         \"Madre straniera e padre italiano (valori assoluti)\",\n",
    "                                         \"Madre straniera e padre italiano (%)\",\n",
    "                                         \"Totale (valori assoluti)\"\n",
    "                                         ]\n",
    "filiazione_tipocoppia_reg2019"
   ],
   "metadata": {
    "collapsed": false,
    "pycharm": {
     "name": "#%%\n"
    }
   }
  },
  {
   "cell_type": "markdown",
   "source": [
    "\n",
    "---\n",
    "## 3.8: Morti e quozienti di mortalità per sesso e regione"
   ],
   "metadata": {
    "collapsed": false,
    "pycharm": {
     "name": "#%% md\n"
    }
   }
  },
  {
   "cell_type": "code",
   "execution_count": 70,
   "outputs": [
    {
     "data": {
      "text/plain": "   Anno Maschi - Valori assoluti Maschi - Quoziente per 1.000 abitanti  \\\n2  2016                   295775                             10.134192   \n3  2017                   309505                             10.611274   \n4  2018                   302495                             10.379383   \n5  2019                   303652                             10.438132   \n\n  Femmine - Valori assoluti.1 Femmine - Quoziente per 1.000 abitanti.1  \\\n2                      319486                                10.329533   \n3                      339556                                11.012142   \n4                      330638                                10.758267   \n5                      330765                                10.795754   \n\n  Maschi e femmine - Valori assoluti.2  \\\n2                               615261   \n3                               649061   \n4                               633133   \n5                               634417   \n\n  Maschi e femmine - Quoziente per 1.000 abitanti.2  \n2                                         10.234695  \n3                                         10.817277  \n4                                         10.573854  \n5                                         10.621577  ",
      "text/html": "<div>\n<style scoped>\n    .dataframe tbody tr th:only-of-type {\n        vertical-align: middle;\n    }\n\n    .dataframe tbody tr th {\n        vertical-align: top;\n    }\n\n    .dataframe thead th {\n        text-align: right;\n    }\n</style>\n<table border=\"1\" class=\"dataframe\">\n  <thead>\n    <tr style=\"text-align: right;\">\n      <th></th>\n      <th>Anno</th>\n      <th>Maschi - Valori assoluti</th>\n      <th>Maschi - Quoziente per 1.000 abitanti</th>\n      <th>Femmine - Valori assoluti.1</th>\n      <th>Femmine - Quoziente per 1.000 abitanti.1</th>\n      <th>Maschi e femmine - Valori assoluti.2</th>\n      <th>Maschi e femmine - Quoziente per 1.000 abitanti.2</th>\n    </tr>\n  </thead>\n  <tbody>\n    <tr>\n      <th>2</th>\n      <td>2016</td>\n      <td>295775</td>\n      <td>10.134192</td>\n      <td>319486</td>\n      <td>10.329533</td>\n      <td>615261</td>\n      <td>10.234695</td>\n    </tr>\n    <tr>\n      <th>3</th>\n      <td>2017</td>\n      <td>309505</td>\n      <td>10.611274</td>\n      <td>339556</td>\n      <td>11.012142</td>\n      <td>649061</td>\n      <td>10.817277</td>\n    </tr>\n    <tr>\n      <th>4</th>\n      <td>2018</td>\n      <td>302495</td>\n      <td>10.379383</td>\n      <td>330638</td>\n      <td>10.758267</td>\n      <td>633133</td>\n      <td>10.573854</td>\n    </tr>\n    <tr>\n      <th>5</th>\n      <td>2019</td>\n      <td>303652</td>\n      <td>10.438132</td>\n      <td>330765</td>\n      <td>10.795754</td>\n      <td>634417</td>\n      <td>10.621577</td>\n    </tr>\n  </tbody>\n</table>\n</div>"
     },
     "execution_count": 70,
     "metadata": {},
     "output_type": "execute_result"
    }
   ],
   "source": [
    "morti_sex = data.parse(sheet_name=\"3.8\", header=7, nrows=6)\n",
    "\n",
    "colonne_nan = [value for position, value in enumerate(morti_sex.columns) if\n",
    "               position in [3, 6]]\n",
    "\n",
    "morti_sex = morti_sex.drop(colonne_nan, axis=1)\n",
    "morti_sex = morti_sex.drop([0, 1], axis=0)\n",
    "\n",
    "morti_sex.columns = [\"Anno\",\n",
    "                     'Maschi - Valori assoluti', 'Maschi - Quoziente per 1.000 abitanti',\n",
    "                     'Femmine - Valori assoluti.1', 'Femmine - Quoziente per 1.000 abitanti.1',\n",
    "                     'Maschi e femmine - Valori assoluti.2', 'Maschi e femmine - Quoziente per 1.000 abitanti.2'\n",
    "                     ]\n",
    "morti_sex"
   ],
   "metadata": {
    "collapsed": false,
    "pycharm": {
     "name": "#%%\n"
    }
   }
  },
  {
   "cell_type": "code",
   "execution_count": 76,
   "outputs": [
    {
     "data": {
      "text/plain": "                           Regione  Maschi - Valori assoluti  \\\n0                         Piemonte                     31957   \n1   \\nValle d'Aosta/Vallée d'Aoste                       877   \n2                          Liguria                     12258   \n3                        Lombardia                     66317   \n4     Trentino-Alto Adige/Südtirol                      5802   \n5                    Bolzano/Bozen                      2619   \n6                           Trento                      3183   \n7                           Veneto                     27652   \n8            Friuli-Venezia Giulia                      7867   \n9                   Emilia-Romagna                     28549   \n10                         Toscana                     22906   \n11                          Umbria                      5324   \n12                          Marche                      9630   \n13                           Lazio                     30319   \n14                         Abruzzo                      8118   \n15                          Molise                      1977   \n16                        Campania                     29959   \n17                          Puglia                     22160   \n18                      Basilicata                      3398   \n19                        Calabria                     10769   \n20                         Sicilia                     27873   \n21                        Sardegna                      9628   \n22                      Nord-ovest                    111409   \n23                        Nord-est                     69870   \n24                          Centro                     68179   \n25                             Sud                     76381   \n26                           Isole                     37501   \n27                          ITALIA                    363340   \n\n    Maschi - Quoziente per 1.000 abitanti  Femmine - Valori assoluti.1  \\\n0                               12.893368                        34097   \n1                               12.550323                          972   \n2                                9.922447                        13569   \n3                               11.662379                        69932   \n4                               10.791714                         6282   \n5                               13.158062                         2839   \n6                               13.447875                         3443   \n7                               10.943690                        30184   \n8                               16.860864                         8750   \n9                               13.541570                        31116   \n10                              13.135756                        25229   \n11                              13.453601                         5807   \n12                              15.318051                        10493   \n13                              11.559283                        31842   \n14                              12.216747                         8178   \n15                              11.798682                         2150   \n16                              12.877463                        29466   \n17                              11.885492                        22490   \n18                              12.714151                         3441   \n19                              14.415096                        10562   \n20                              11.599947                        28880   \n21                              10.911091                         9366   \n22                              14.335825                       118570   \n23                              12.322203                        76332   \n24                              11.958960                        73371   \n25                              11.461894                        76287   \n26                              11.903262                        38246   \n27                              12.547531                       382806   \n\n    Femmine - Quoziente per 1.000 abitanti.1  \\\n0                                  15.456608   \n1                                  15.276894   \n2                                  17.169288   \n3                                  13.712139   \n4                                  11.494716   \n5                                  10.544789   \n6                                  12.417074   \n7                                  12.161214   \n8                                  14.170385   \n9                                  13.616686   \n10                                 13.266708   \n11                                 12.937709   \n12                                 13.558153   \n13                                 10.729185   \n14                                 12.391425   \n15                                 14.183742   \n16                                 10.091651   \n17                                 11.116911   \n18                                 12.303941   \n19                                 10.973250   \n20                                 11.571901   \n21                                 11.466355   \n22                                 14.530779   \n23                                 12.869737   \n24                                 12.043355   \n25                                 10.903397   \n26                                 11.545875   \n27                                 12.554130   \n\n    Maschi e femmine - Valori assoluti.2  \\\n0                                  66054   \n1                                   1849   \n2                                  25827   \n3                                 136249   \n4                                  12084   \n5                                   5458   \n6                                   6626   \n7                                  57836   \n8                                  16617   \n9                                  59665   \n10                                 48135   \n11                                 11131   \n12                                 20123   \n13                                 62161   \n14                                 16296   \n15                                  4127   \n16                                 59425   \n17                                 44650   \n18                                  6839   \n19                                 21331   \n20                                 56753   \n21                                 18994   \n22                                229979   \n23                                146202   \n24                                141550   \n25                                152668   \n26                                 75747   \n27                                746146   \n\n    Maschi e femmine - Quoziente per 1.000 abitanti.2  \n0                                           15.389262  \n1                                           14.855642  \n2                                           17.021509  \n3                                           13.628584  \n4                                           11.206898  \n5                                           10.236703  \n6                                           12.155902  \n7                                           11.886243  \n8                                           13.818889  \n9                                           13.393316  \n10                                          13.078585  \n11                                          12.829808  \n12                                          13.352674  \n13                                          10.832749  \n14                                          12.636491  \n15                                          13.824337  \n16                                          10.432850  \n17                                          11.332148  \n18                                          12.425136  \n19                                          11.310666  \n20                                          11.682180  \n21                                          11.834836  \n22                                          14.435679  \n23                                          12.602126  \n24                                          12.002557  \n25                                          11.175844  \n26                                          11.720088  \n27                                          12.550916  ",
      "text/html": "<div>\n<style scoped>\n    .dataframe tbody tr th:only-of-type {\n        vertical-align: middle;\n    }\n\n    .dataframe tbody tr th {\n        vertical-align: top;\n    }\n\n    .dataframe thead th {\n        text-align: right;\n    }\n</style>\n<table border=\"1\" class=\"dataframe\">\n  <thead>\n    <tr style=\"text-align: right;\">\n      <th></th>\n      <th>Regione</th>\n      <th>Maschi - Valori assoluti</th>\n      <th>Maschi - Quoziente per 1.000 abitanti</th>\n      <th>Femmine - Valori assoluti.1</th>\n      <th>Femmine - Quoziente per 1.000 abitanti.1</th>\n      <th>Maschi e femmine - Valori assoluti.2</th>\n      <th>Maschi e femmine - Quoziente per 1.000 abitanti.2</th>\n    </tr>\n  </thead>\n  <tbody>\n    <tr>\n      <th>0</th>\n      <td>Piemonte</td>\n      <td>31957</td>\n      <td>12.893368</td>\n      <td>34097</td>\n      <td>15.456608</td>\n      <td>66054</td>\n      <td>15.389262</td>\n    </tr>\n    <tr>\n      <th>1</th>\n      <td>\\nValle d'Aosta/Vallée d'Aoste</td>\n      <td>877</td>\n      <td>12.550323</td>\n      <td>972</td>\n      <td>15.276894</td>\n      <td>1849</td>\n      <td>14.855642</td>\n    </tr>\n    <tr>\n      <th>2</th>\n      <td>Liguria</td>\n      <td>12258</td>\n      <td>9.922447</td>\n      <td>13569</td>\n      <td>17.169288</td>\n      <td>25827</td>\n      <td>17.021509</td>\n    </tr>\n    <tr>\n      <th>3</th>\n      <td>Lombardia</td>\n      <td>66317</td>\n      <td>11.662379</td>\n      <td>69932</td>\n      <td>13.712139</td>\n      <td>136249</td>\n      <td>13.628584</td>\n    </tr>\n    <tr>\n      <th>4</th>\n      <td>Trentino-Alto Adige/Südtirol</td>\n      <td>5802</td>\n      <td>10.791714</td>\n      <td>6282</td>\n      <td>11.494716</td>\n      <td>12084</td>\n      <td>11.206898</td>\n    </tr>\n    <tr>\n      <th>5</th>\n      <td>Bolzano/Bozen</td>\n      <td>2619</td>\n      <td>13.158062</td>\n      <td>2839</td>\n      <td>10.544789</td>\n      <td>5458</td>\n      <td>10.236703</td>\n    </tr>\n    <tr>\n      <th>6</th>\n      <td>Trento</td>\n      <td>3183</td>\n      <td>13.447875</td>\n      <td>3443</td>\n      <td>12.417074</td>\n      <td>6626</td>\n      <td>12.155902</td>\n    </tr>\n    <tr>\n      <th>7</th>\n      <td>Veneto</td>\n      <td>27652</td>\n      <td>10.943690</td>\n      <td>30184</td>\n      <td>12.161214</td>\n      <td>57836</td>\n      <td>11.886243</td>\n    </tr>\n    <tr>\n      <th>8</th>\n      <td>Friuli-Venezia Giulia</td>\n      <td>7867</td>\n      <td>16.860864</td>\n      <td>8750</td>\n      <td>14.170385</td>\n      <td>16617</td>\n      <td>13.818889</td>\n    </tr>\n    <tr>\n      <th>9</th>\n      <td>Emilia-Romagna</td>\n      <td>28549</td>\n      <td>13.541570</td>\n      <td>31116</td>\n      <td>13.616686</td>\n      <td>59665</td>\n      <td>13.393316</td>\n    </tr>\n    <tr>\n      <th>10</th>\n      <td>Toscana</td>\n      <td>22906</td>\n      <td>13.135756</td>\n      <td>25229</td>\n      <td>13.266708</td>\n      <td>48135</td>\n      <td>13.078585</td>\n    </tr>\n    <tr>\n      <th>11</th>\n      <td>Umbria</td>\n      <td>5324</td>\n      <td>13.453601</td>\n      <td>5807</td>\n      <td>12.937709</td>\n      <td>11131</td>\n      <td>12.829808</td>\n    </tr>\n    <tr>\n      <th>12</th>\n      <td>Marche</td>\n      <td>9630</td>\n      <td>15.318051</td>\n      <td>10493</td>\n      <td>13.558153</td>\n      <td>20123</td>\n      <td>13.352674</td>\n    </tr>\n    <tr>\n      <th>13</th>\n      <td>Lazio</td>\n      <td>30319</td>\n      <td>11.559283</td>\n      <td>31842</td>\n      <td>10.729185</td>\n      <td>62161</td>\n      <td>10.832749</td>\n    </tr>\n    <tr>\n      <th>14</th>\n      <td>Abruzzo</td>\n      <td>8118</td>\n      <td>12.216747</td>\n      <td>8178</td>\n      <td>12.391425</td>\n      <td>16296</td>\n      <td>12.636491</td>\n    </tr>\n    <tr>\n      <th>15</th>\n      <td>Molise</td>\n      <td>1977</td>\n      <td>11.798682</td>\n      <td>2150</td>\n      <td>14.183742</td>\n      <td>4127</td>\n      <td>13.824337</td>\n    </tr>\n    <tr>\n      <th>16</th>\n      <td>Campania</td>\n      <td>29959</td>\n      <td>12.877463</td>\n      <td>29466</td>\n      <td>10.091651</td>\n      <td>59425</td>\n      <td>10.432850</td>\n    </tr>\n    <tr>\n      <th>17</th>\n      <td>Puglia</td>\n      <td>22160</td>\n      <td>11.885492</td>\n      <td>22490</td>\n      <td>11.116911</td>\n      <td>44650</td>\n      <td>11.332148</td>\n    </tr>\n    <tr>\n      <th>18</th>\n      <td>Basilicata</td>\n      <td>3398</td>\n      <td>12.714151</td>\n      <td>3441</td>\n      <td>12.303941</td>\n      <td>6839</td>\n      <td>12.425136</td>\n    </tr>\n    <tr>\n      <th>19</th>\n      <td>Calabria</td>\n      <td>10769</td>\n      <td>14.415096</td>\n      <td>10562</td>\n      <td>10.973250</td>\n      <td>21331</td>\n      <td>11.310666</td>\n    </tr>\n    <tr>\n      <th>20</th>\n      <td>Sicilia</td>\n      <td>27873</td>\n      <td>11.599947</td>\n      <td>28880</td>\n      <td>11.571901</td>\n      <td>56753</td>\n      <td>11.682180</td>\n    </tr>\n    <tr>\n      <th>21</th>\n      <td>Sardegna</td>\n      <td>9628</td>\n      <td>10.911091</td>\n      <td>9366</td>\n      <td>11.466355</td>\n      <td>18994</td>\n      <td>11.834836</td>\n    </tr>\n    <tr>\n      <th>22</th>\n      <td>Nord-ovest</td>\n      <td>111409</td>\n      <td>14.335825</td>\n      <td>118570</td>\n      <td>14.530779</td>\n      <td>229979</td>\n      <td>14.435679</td>\n    </tr>\n    <tr>\n      <th>23</th>\n      <td>Nord-est</td>\n      <td>69870</td>\n      <td>12.322203</td>\n      <td>76332</td>\n      <td>12.869737</td>\n      <td>146202</td>\n      <td>12.602126</td>\n    </tr>\n    <tr>\n      <th>24</th>\n      <td>Centro</td>\n      <td>68179</td>\n      <td>11.958960</td>\n      <td>73371</td>\n      <td>12.043355</td>\n      <td>141550</td>\n      <td>12.002557</td>\n    </tr>\n    <tr>\n      <th>25</th>\n      <td>Sud</td>\n      <td>76381</td>\n      <td>11.461894</td>\n      <td>76287</td>\n      <td>10.903397</td>\n      <td>152668</td>\n      <td>11.175844</td>\n    </tr>\n    <tr>\n      <th>26</th>\n      <td>Isole</td>\n      <td>37501</td>\n      <td>11.903262</td>\n      <td>38246</td>\n      <td>11.545875</td>\n      <td>75747</td>\n      <td>11.720088</td>\n    </tr>\n    <tr>\n      <th>27</th>\n      <td>ITALIA</td>\n      <td>363340</td>\n      <td>12.547531</td>\n      <td>382806</td>\n      <td>12.554130</td>\n      <td>746146</td>\n      <td>12.550916</td>\n    </tr>\n  </tbody>\n</table>\n</div>"
     },
     "execution_count": 76,
     "metadata": {},
     "output_type": "execute_result"
    }
   ],
   "source": [
    "morti_sex_reg2020 = data.parse(sheet_name=\"3.8\", header=16, nrows=28)\n",
    "\n",
    "colonne_nan = [value for position, value in enumerate(morti_sex_reg2020.columns) if\n",
    "               position in [3, 6]]\n",
    "\n",
    "morti_sex_reg2020 = morti_sex_reg2020.drop(colonne_nan, axis=1)\n",
    "\n",
    "morti_sex_reg2020.columns = [\"Regione\",\n",
    "                             'Maschi - Valori assoluti', 'Maschi - Quoziente per 1.000 abitanti',\n",
    "                             'Femmine - Valori assoluti.1', 'Femmine - Quoziente per 1.000 abitanti.1',\n",
    "                             'Maschi e femmine - Valori assoluti.2', 'Maschi e femmine - Quoziente per 1.000 abitanti.2'\n",
    "                             ]\n",
    "morti_sex_reg2020"
   ],
   "metadata": {
    "collapsed": false,
    "pycharm": {
     "name": "#%%\n"
    }
   }
  },
  {
   "cell_type": "markdown",
   "source": [
    "\n",
    "---\n",
    "## 3.18: Famiglie per numero di componenti e regione\n",
    "#### Media 2019-2020, per 100 famiglie"
   ],
   "metadata": {
    "collapsed": false,
    "pycharm": {
     "name": "#%% md\n"
    }
   }
  },
  {
   "cell_type": "code",
   "execution_count": 100,
   "outputs": [
    {
     "data": {
      "text/plain": "  Range Anni  Famiglie (valori assoluti in migliaia) Un componente %  \\\n2  2015-2016                                 25386.0            31.6   \n3  2016-2017                                 25494.0            31.9   \n4  2017-2018                                 25716.0              33   \n5  2018-2019                                 25715.0            33.3   \n\n  Due componenti % Tre componenti % Quattro componenti %  \\\n2             27.3             19.8                   16   \n3             27.5             19.6                 15.7   \n4             27.1             19.5                 15.1   \n5             27.1             19.3                 15.1   \n\n  Cinque o più componenti % Totale  \n2                       5.4    100  \n3                       5.3    100  \n4                       5.3    100  \n5                       5.3    100  ",
      "text/html": "<div>\n<style scoped>\n    .dataframe tbody tr th:only-of-type {\n        vertical-align: middle;\n    }\n\n    .dataframe tbody tr th {\n        vertical-align: top;\n    }\n\n    .dataframe thead th {\n        text-align: right;\n    }\n</style>\n<table border=\"1\" class=\"dataframe\">\n  <thead>\n    <tr style=\"text-align: right;\">\n      <th></th>\n      <th>Range Anni</th>\n      <th>Famiglie (valori assoluti in migliaia)</th>\n      <th>Un componente %</th>\n      <th>Due componenti %</th>\n      <th>Tre componenti %</th>\n      <th>Quattro componenti %</th>\n      <th>Cinque o più componenti %</th>\n      <th>Totale</th>\n    </tr>\n  </thead>\n  <tbody>\n    <tr>\n      <th>2</th>\n      <td>2015-2016</td>\n      <td>25386.0</td>\n      <td>31.6</td>\n      <td>27.3</td>\n      <td>19.8</td>\n      <td>16</td>\n      <td>5.4</td>\n      <td>100</td>\n    </tr>\n    <tr>\n      <th>3</th>\n      <td>2016-2017</td>\n      <td>25494.0</td>\n      <td>31.9</td>\n      <td>27.5</td>\n      <td>19.6</td>\n      <td>15.7</td>\n      <td>5.3</td>\n      <td>100</td>\n    </tr>\n    <tr>\n      <th>4</th>\n      <td>2017-2018</td>\n      <td>25716.0</td>\n      <td>33</td>\n      <td>27.1</td>\n      <td>19.5</td>\n      <td>15.1</td>\n      <td>5.3</td>\n      <td>100</td>\n    </tr>\n    <tr>\n      <th>5</th>\n      <td>2018-2019</td>\n      <td>25715.0</td>\n      <td>33.3</td>\n      <td>27.1</td>\n      <td>19.3</td>\n      <td>15.1</td>\n      <td>5.3</td>\n      <td>100</td>\n    </tr>\n  </tbody>\n</table>\n</div>"
     },
     "execution_count": 100,
     "metadata": {},
     "output_type": "execute_result"
    }
   ],
   "source": [
    "famiglie_per_n_componenti = data.parse(sheet_name=\"3.18\", header=7, nrows=6)\n",
    "\n",
    "famiglie_per_n_componenti = famiglie_per_n_componenti.drop(\"Unnamed: 2\", axis=1)\n",
    "famiglie_per_n_componenti = famiglie_per_n_componenti.drop([0, 1], axis=0)\n",
    "\n",
    "famiglie_per_n_componenti.columns = [\"Range Anni\",\n",
    "                                     \"Famiglie (valori assoluti in migliaia)\",\n",
    "                                     'Un componente %',\n",
    "                                     \"Due componenti %\",\n",
    "                                     \"Tre componenti %\",\n",
    "                                     \"Quattro componenti %\",\n",
    "                                     \"Cinque o più componenti %\",\n",
    "                                     \"Totale\"\n",
    "                                     ]\n",
    "famiglie_per_n_componenti"
   ],
   "metadata": {
    "collapsed": false,
    "pycharm": {
     "name": "#%%\n"
    }
   }
  },
  {
   "cell_type": "code",
   "execution_count": 111,
   "outputs": [
    {
     "data": {
      "text/plain": "                      Range Anni Famiglie (valori assoluti in migliaia)  \\\n2                       Piemonte                                   1979   \n3   Valle d'Aosta/Vallée d'Aoste                                     60   \n4                        Liguria                                    750   \n5                      Lombardia                                   4365   \n6   Trentino-Alto Adige/Südtirol                                    448   \n7                  Bolzano/Bozen                                    220   \n8                         Trento                                    228   \n9                         Veneto                                   2023   \n10         Friuli-Venezia Giulia                                    536   \n11                Emilia-Romagna                                   1978   \n12                       Toscana                                   1636   \n13                        Umbria                                    375   \n14                        Marche                                    629   \n15                         Lazio                                   2585   \n16                      Abruzzo                                     555   \n17                       Molise                                     126   \n18                      Campania                                   2167   \n19                        Puglia                                   1610   \n20                    Basilicata                                    239   \n21                      Calabria                                    797   \n22                       Sicilia                                   2011   \n23                      Sardegna                                    724   \n24                    Nord-ovest                                   7154   \n25                      Nord-est                                   4985   \n26                        Centro                                   5225   \n27                           Sud                                   5494   \n28                         Isole                                   2735   \n29                        ITALIA                                  25592   \n\n    Un componente %  Due componenti %  Tre componenti %  Quattro componenti %  \\\n2              36.8              29.8              17.2                  12.1   \n3              41.5              27.5              16.1                  11.2   \n4              42.8              28.0              15.7                  10.2   \n5              33.5              29.2              18.5                  14.2   \n6              33.5              27.5              16.5                  15.6   \n7              35.5              25.3              15.2                  15.8   \n8              31.6              29.7              17.6                  15.5   \n9              29.1              30.2              20.2                  14.9   \n10             34.8              29.8              18.2                  12.8   \n11             34.0              30.7              18.3                  12.8   \n12             34.9              28.8              18.2                  13.3   \n13             34.0              27.2              18.2                  15.0   \n14             31.1              26.8              20.5                  15.8   \n15             36.2              25.6              19.4                  14.7   \n16             32.6              27.6              19.5                  15.5   \n17             30.5              27.1              20.1                  17.8   \n18             25.9              23.6              20.9                  20.9   \n19             28.8              25.8              21.0                  18.1   \n20             34.3              27.2              17.0                  16.7   \n21             32.3              25.3              19.0                  17.2   \n22             30.3              25.4              19.2                  19.2   \n23             34.8              27.6              20.2                  13.9   \n24             35.5              29.2              17.8                  13.2   \n25             32.0              30.1              18.9                  13.9   \n26             35.0              26.9              19.1                  14.4   \n27             28.8              25.1              20.3                  18.7   \n28             31.5              26.0              19.5                  17.8   \n29             32.9              27.7              19.0                  15.3   \n\n    Cinque o più componenti %  Totale  \n2                         4.0   100.0  \n3                         3.8   100.0  \n4                         3.3   100.0  \n5                         4.7   100.0  \n6                         6.8   100.0  \n7                         8.1   100.0  \n8                         5.6   100.0  \n9                         5.5   100.0  \n10                        4.4   100.0  \n11                        4.2   100.0  \n12                        4.8   100.0  \n13                        5.6   100.0  \n14                        5.8   100.0  \n15                        4.1   100.0  \n16                        4.9   100.0  \n17                        4.5   100.0  \n18                        8.7   100.0  \n19                        6.4   100.0  \n20                        4.8   100.0  \n21                        6.1   100.0  \n22                        5.8   100.0  \n23                        3.5   100.0  \n24                        4.4   100.0  \n25                        5.0   100.0  \n26                        4.6   100.0  \n27                        7.0   100.0  \n28                        5.2   100.0  \n29                        5.2   100.0  ",
      "text/html": "<div>\n<style scoped>\n    .dataframe tbody tr th:only-of-type {\n        vertical-align: middle;\n    }\n\n    .dataframe tbody tr th {\n        vertical-align: top;\n    }\n\n    .dataframe thead th {\n        text-align: right;\n    }\n</style>\n<table border=\"1\" class=\"dataframe\">\n  <thead>\n    <tr style=\"text-align: right;\">\n      <th></th>\n      <th>Range Anni</th>\n      <th>Famiglie (valori assoluti in migliaia)</th>\n      <th>Un componente %</th>\n      <th>Due componenti %</th>\n      <th>Tre componenti %</th>\n      <th>Quattro componenti %</th>\n      <th>Cinque o più componenti %</th>\n      <th>Totale</th>\n    </tr>\n  </thead>\n  <tbody>\n    <tr>\n      <th>2</th>\n      <td>Piemonte</td>\n      <td>1979</td>\n      <td>36.8</td>\n      <td>29.8</td>\n      <td>17.2</td>\n      <td>12.1</td>\n      <td>4.0</td>\n      <td>100.0</td>\n    </tr>\n    <tr>\n      <th>3</th>\n      <td>Valle d'Aosta/Vallée d'Aoste</td>\n      <td>60</td>\n      <td>41.5</td>\n      <td>27.5</td>\n      <td>16.1</td>\n      <td>11.2</td>\n      <td>3.8</td>\n      <td>100.0</td>\n    </tr>\n    <tr>\n      <th>4</th>\n      <td>Liguria</td>\n      <td>750</td>\n      <td>42.8</td>\n      <td>28.0</td>\n      <td>15.7</td>\n      <td>10.2</td>\n      <td>3.3</td>\n      <td>100.0</td>\n    </tr>\n    <tr>\n      <th>5</th>\n      <td>Lombardia</td>\n      <td>4365</td>\n      <td>33.5</td>\n      <td>29.2</td>\n      <td>18.5</td>\n      <td>14.2</td>\n      <td>4.7</td>\n      <td>100.0</td>\n    </tr>\n    <tr>\n      <th>6</th>\n      <td>Trentino-Alto Adige/Südtirol</td>\n      <td>448</td>\n      <td>33.5</td>\n      <td>27.5</td>\n      <td>16.5</td>\n      <td>15.6</td>\n      <td>6.8</td>\n      <td>100.0</td>\n    </tr>\n    <tr>\n      <th>7</th>\n      <td>Bolzano/Bozen</td>\n      <td>220</td>\n      <td>35.5</td>\n      <td>25.3</td>\n      <td>15.2</td>\n      <td>15.8</td>\n      <td>8.1</td>\n      <td>100.0</td>\n    </tr>\n    <tr>\n      <th>8</th>\n      <td>Trento</td>\n      <td>228</td>\n      <td>31.6</td>\n      <td>29.7</td>\n      <td>17.6</td>\n      <td>15.5</td>\n      <td>5.6</td>\n      <td>100.0</td>\n    </tr>\n    <tr>\n      <th>9</th>\n      <td>Veneto</td>\n      <td>2023</td>\n      <td>29.1</td>\n      <td>30.2</td>\n      <td>20.2</td>\n      <td>14.9</td>\n      <td>5.5</td>\n      <td>100.0</td>\n    </tr>\n    <tr>\n      <th>10</th>\n      <td>Friuli-Venezia Giulia</td>\n      <td>536</td>\n      <td>34.8</td>\n      <td>29.8</td>\n      <td>18.2</td>\n      <td>12.8</td>\n      <td>4.4</td>\n      <td>100.0</td>\n    </tr>\n    <tr>\n      <th>11</th>\n      <td>Emilia-Romagna</td>\n      <td>1978</td>\n      <td>34.0</td>\n      <td>30.7</td>\n      <td>18.3</td>\n      <td>12.8</td>\n      <td>4.2</td>\n      <td>100.0</td>\n    </tr>\n    <tr>\n      <th>12</th>\n      <td>Toscana</td>\n      <td>1636</td>\n      <td>34.9</td>\n      <td>28.8</td>\n      <td>18.2</td>\n      <td>13.3</td>\n      <td>4.8</td>\n      <td>100.0</td>\n    </tr>\n    <tr>\n      <th>13</th>\n      <td>Umbria</td>\n      <td>375</td>\n      <td>34.0</td>\n      <td>27.2</td>\n      <td>18.2</td>\n      <td>15.0</td>\n      <td>5.6</td>\n      <td>100.0</td>\n    </tr>\n    <tr>\n      <th>14</th>\n      <td>Marche</td>\n      <td>629</td>\n      <td>31.1</td>\n      <td>26.8</td>\n      <td>20.5</td>\n      <td>15.8</td>\n      <td>5.8</td>\n      <td>100.0</td>\n    </tr>\n    <tr>\n      <th>15</th>\n      <td>Lazio</td>\n      <td>2585</td>\n      <td>36.2</td>\n      <td>25.6</td>\n      <td>19.4</td>\n      <td>14.7</td>\n      <td>4.1</td>\n      <td>100.0</td>\n    </tr>\n    <tr>\n      <th>16</th>\n      <td>Abruzzo</td>\n      <td>555</td>\n      <td>32.6</td>\n      <td>27.6</td>\n      <td>19.5</td>\n      <td>15.5</td>\n      <td>4.9</td>\n      <td>100.0</td>\n    </tr>\n    <tr>\n      <th>17</th>\n      <td>Molise</td>\n      <td>126</td>\n      <td>30.5</td>\n      <td>27.1</td>\n      <td>20.1</td>\n      <td>17.8</td>\n      <td>4.5</td>\n      <td>100.0</td>\n    </tr>\n    <tr>\n      <th>18</th>\n      <td>Campania</td>\n      <td>2167</td>\n      <td>25.9</td>\n      <td>23.6</td>\n      <td>20.9</td>\n      <td>20.9</td>\n      <td>8.7</td>\n      <td>100.0</td>\n    </tr>\n    <tr>\n      <th>19</th>\n      <td>Puglia</td>\n      <td>1610</td>\n      <td>28.8</td>\n      <td>25.8</td>\n      <td>21.0</td>\n      <td>18.1</td>\n      <td>6.4</td>\n      <td>100.0</td>\n    </tr>\n    <tr>\n      <th>20</th>\n      <td>Basilicata</td>\n      <td>239</td>\n      <td>34.3</td>\n      <td>27.2</td>\n      <td>17.0</td>\n      <td>16.7</td>\n      <td>4.8</td>\n      <td>100.0</td>\n    </tr>\n    <tr>\n      <th>21</th>\n      <td>Calabria</td>\n      <td>797</td>\n      <td>32.3</td>\n      <td>25.3</td>\n      <td>19.0</td>\n      <td>17.2</td>\n      <td>6.1</td>\n      <td>100.0</td>\n    </tr>\n    <tr>\n      <th>22</th>\n      <td>Sicilia</td>\n      <td>2011</td>\n      <td>30.3</td>\n      <td>25.4</td>\n      <td>19.2</td>\n      <td>19.2</td>\n      <td>5.8</td>\n      <td>100.0</td>\n    </tr>\n    <tr>\n      <th>23</th>\n      <td>Sardegna</td>\n      <td>724</td>\n      <td>34.8</td>\n      <td>27.6</td>\n      <td>20.2</td>\n      <td>13.9</td>\n      <td>3.5</td>\n      <td>100.0</td>\n    </tr>\n    <tr>\n      <th>24</th>\n      <td>Nord-ovest</td>\n      <td>7154</td>\n      <td>35.5</td>\n      <td>29.2</td>\n      <td>17.8</td>\n      <td>13.2</td>\n      <td>4.4</td>\n      <td>100.0</td>\n    </tr>\n    <tr>\n      <th>25</th>\n      <td>Nord-est</td>\n      <td>4985</td>\n      <td>32.0</td>\n      <td>30.1</td>\n      <td>18.9</td>\n      <td>13.9</td>\n      <td>5.0</td>\n      <td>100.0</td>\n    </tr>\n    <tr>\n      <th>26</th>\n      <td>Centro</td>\n      <td>5225</td>\n      <td>35.0</td>\n      <td>26.9</td>\n      <td>19.1</td>\n      <td>14.4</td>\n      <td>4.6</td>\n      <td>100.0</td>\n    </tr>\n    <tr>\n      <th>27</th>\n      <td>Sud</td>\n      <td>5494</td>\n      <td>28.8</td>\n      <td>25.1</td>\n      <td>20.3</td>\n      <td>18.7</td>\n      <td>7.0</td>\n      <td>100.0</td>\n    </tr>\n    <tr>\n      <th>28</th>\n      <td>Isole</td>\n      <td>2735</td>\n      <td>31.5</td>\n      <td>26.0</td>\n      <td>19.5</td>\n      <td>17.8</td>\n      <td>5.2</td>\n      <td>100.0</td>\n    </tr>\n    <tr>\n      <th>29</th>\n      <td>ITALIA</td>\n      <td>25592</td>\n      <td>32.9</td>\n      <td>27.7</td>\n      <td>19.0</td>\n      <td>15.3</td>\n      <td>5.2</td>\n      <td>100.0</td>\n    </tr>\n  </tbody>\n</table>\n</div>"
     },
     "execution_count": 111,
     "metadata": {},
     "output_type": "execute_result"
    }
   ],
   "source": [
    "famiglie_per_n_componenti_reg2019_2020 = data.parse(sheet_name=\"3.18\", header=14, nrows=30)\n",
    "\n",
    "famiglie_per_n_componenti_reg2019_2020 = famiglie_per_n_componenti_reg2019_2020.drop(\"Unnamed: 2\", axis=1)\n",
    "famiglie_per_n_componenti_reg2019_2020 = famiglie_per_n_componenti_reg2019_2020.drop([0, 1], axis=0)\n",
    "\n",
    "famiglie_per_n_componenti_reg2019_2020.columns = [\"Range Anni\",\n",
    "                                     \"Famiglie (valori assoluti in migliaia)\",\n",
    "                                     'Un componente %',\n",
    "                                     \"Due componenti %\",\n",
    "                                     \"Tre componenti %\",\n",
    "                                     \"Quattro componenti %\",\n",
    "                                     \"Cinque o più componenti %\",\n",
    "                                     \"Totale\"\n",
    "                                     ]\n",
    "famiglie_per_n_componenti_reg2019_2020"
   ],
   "metadata": {
    "collapsed": false,
    "pycharm": {
     "name": "#%%\n"
    }
   }
  }
 ],
 "metadata": {
  "kernelspec": {
   "display_name": "Python 3",
   "language": "python",
   "name": "python3"
  },
  "language_info": {
   "codemirror_mode": {
    "name": "ipython",
    "version": 2
   },
   "file_extension": ".py",
   "mimetype": "text/x-python",
   "name": "python",
   "nbconvert_exporter": "python",
   "pygments_lexer": "ipython2",
   "version": "2.7.6"
  }
 },
 "nbformat": 4,
 "nbformat_minor": 0
}