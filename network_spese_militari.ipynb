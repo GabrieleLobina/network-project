{
 "cells": [
  {
   "cell_type": "code",
   "execution_count": 1,
   "metadata": {
    "collapsed": true,
    "pycharm": {
     "name": "#%%\n"
    }
   },
   "outputs": [],
   "source": [
    "import pandas as pd\n",
    "import openpyxl  # TODO: scrivere se Bisogna installarlo"
   ]
  },
  {
   "cell_type": "code",
   "execution_count": 7,
   "outputs": [],
   "source": [
    "path = \"datasets/dati spese militari/SIPRI-Milex-data-1949-2021.xlsx\""
   ],
   "metadata": {
    "collapsed": false,
    "pycharm": {
     "name": "#%%\n"
    }
   }
  },
  {
   "cell_type": "code",
   "execution_count": 13,
   "outputs": [
    {
     "name": "stderr",
     "output_type": "stream",
     "text": [
      "c:\\users\\gabri\\appdata\\local\\programs\\python\\python38\\lib\\site-packages\\openpyxl\\styles\\stylesheet.py:226: UserWarning: Workbook contains no default style, apply openpyxl's default\n",
      "  warn(\"Workbook contains no default style, apply openpyxl's default\")\n"
     ]
    }
   ],
   "source": [
    "data = pd.ExcelFile(path)"
   ],
   "metadata": {
    "collapsed": false,
    "pycharm": {
     "name": "#%%\n"
    }
   }
  },
  {
   "cell_type": "markdown",
   "source": [
    "## Se il file è di tipo excel e ha più fogli di lavoro"
   ],
   "metadata": {
    "collapsed": false,
    "pycharm": {
     "name": "#%% md\n"
    }
   }
  },
  {
   "cell_type": "code",
   "execution_count": 18,
   "outputs": [
    {
     "data": {
      "text/plain": "                               Region       1988.0       1989.0       1990.0  \\\n0                               World  1521.342195  1500.112640  1454.322799   \n1                              Africa    15.153684    15.065699    14.718979   \n2                        North Africa     3.061962     3.196160     3.179809   \n3                  sub-Saharan Africa    12.091722    11.869538    11.539170   \n4                            Americas   726.340729   719.053830   686.899831   \n5   Central America and the Caribbean     3.942937     4.050969     3.735170   \n6                       North America   695.168369   689.354740   661.386389   \n7                       South America    27.229423    25.648121    21.778272   \n8                      Asia & Oceania   137.864182   145.056360   151.816941   \n9                             Oceania    14.055046    14.034826    14.210986   \n10                         South Asia    25.567911    26.648550    26.673954   \n11                          East Asia    83.750591    88.654983    93.642850   \n12                    South East Asia    14.490634    15.718001    17.289150   \n13                       Central Asia     0.000000     0.000000     0.000000   \n14                             Europe   571.577077   556.655746   514.630838   \n15                     Central Europe    32.403123    35.149375    27.494663   \n16                     Eastern Europe   259.950523   241.036790   203.913771   \n17                     Western Europe   279.223430   280.469582   283.222404   \n18                        Middle East    70.406523    64.281005    86.256211   \n\n        1991.0       1992.0       1993.0       1994.0       1995.0  \\\n0          ...  1220.250720  1172.239299  1137.419935  1081.712854   \n1    13.340598    12.418684    13.779063    13.158566    12.103963   \n2     3.291954     3.722178     3.920418     4.240411     4.036586   \n3    10.048643     8.696505     9.858645     8.918155     8.067376   \n4   607.486137   636.872379   608.065610   581.062090   547.056638   \n5      3.54332     3.869320     3.926364     4.496454     3.892222   \n6   584.946641   615.375848   583.251917   553.524731   517.175746   \n7    18.996175    17.627211    20.887328    23.040905    25.988671   \n8   154.492563   161.601833   165.425133   166.508590   171.347761   \n9    14.254401    14.487300    14.935573    15.130940    14.711191   \n10   25.774061    25.413154    27.950534    28.171271    29.522988   \n11   96.861437   103.628859   103.684940   103.028502   105.423438   \n12   17.602664    17.998239    18.313522    19.862975    21.382781   \n13         0.0     0.074281     0.540564     0.314901     0.307365   \n14         ...   331.723599   310.150788   303.804211   281.515998   \n15   19.738076    20.232764    16.193813    16.760571    17.296855   \n16         ...    44.273328    39.141851    37.838782    25.424259   \n17  278.081065   267.217506   254.815124   249.204858   238.794884   \n18   94.996744    77.634224    74.818705    72.886478    69.688493   \n\n         1996.0  ...       2015.0       2016.0       2017.0       2018.0  \\\n0   1056.974420  ...  1777.647731  1786.859912  1810.194674  1859.026678   \n1     11.716104  ...    38.455157    37.136733    36.548078    34.747355   \n2      4.270101  ...    17.345827    17.364706    16.877121    16.387665   \n3      7.446003  ...    21.109331    19.772027    19.670958    18.359690   \n4    518.973654  ...   761.296874   758.075202   756.731092   778.822903   \n5      3.964929  ...     6.756783     7.431725     6.962338     7.640058   \n6    488.643168  ...   710.625880   708.747673   705.539811   725.987986   \n7     26.365557  ...    43.914212    41.895805    44.228943    45.194859   \n8    175.598694  ...   433.793422   456.237182   476.832473   494.926415   \n9     14.599016  ...    25.845368    28.237945    28.348408    27.960921   \n10    29.881250  ...    71.729075    78.000814    83.421005    87.841450   \n11   108.497337  ...   294.424476   306.248058   319.634922   336.777025   \n12    22.294155  ...    41.597776    42.189141    43.926935    40.737510   \n13     0.326937  ...     0.196727     1.561224     1.501203     1.609509   \n14   280.319841  ...   335.945382   347.754158   339.332795   345.853753   \n15    18.283426  ...    22.699519    23.040238    24.809267    27.989539   \n16    23.995824  ...    77.722789    81.614147    66.944705    65.666863   \n17   238.040591  ...   235.523073   243.099772   247.578823   252.197351   \n18    70.366126  ...   208.156896   187.656638   200.750235   204.676252   \n\n         2019.0       2020.0       2021.0  2021 (current prices)  Unnamed: 36  \\\n0   1932.120739  1992.235977  2006.576345            2113.306673          NaN   \n1     35.846381    36.354563    36.873525              39.707460          NaN   \n2     17.454071    18.336731    18.040343              19.618549          NaN   \n3     18.392310    18.017831    18.833181              20.088911          NaN   \n4    818.551640   856.215819   845.812437             883.378414          NaN   \n5      8.372522    10.221562     9.963164              10.963088          NaN   \n6    765.722823   801.678520   791.781580             827.121363          NaN   \n7     44.456296    44.315738    44.067692              45.293964          NaN   \n8    519.403515   534.160404   553.056498             586.066739          NaN   \n9     29.127704    30.493554    31.570980              35.302768          NaN   \n10    92.663191    90.134139    90.839977              95.071960          NaN   \n11   353.629981   367.504101   385.657747             410.769082          NaN   \n12    41.942325    44.268959    43.243021              43.098577          NaN   \n13     2.040314     1.759650     1.744773               1.824352          NaN   \n14   363.682209   381.291616   392.646912             417.835505          NaN   \n15    31.693524    33.922181    34.351549              36.584024          NaN   \n16    69.229117    71.548279    73.163611              76.290312          NaN   \n17   262.759569   275.821156   285.131752             304.961169          NaN   \n18   194.636995   184.213576   178.186974             186.318555          NaN   \n\n                         Omitted countries  \n0                                      NaN  \n1               Djibouti, Eritrea, Somalia  \n2                                      NaN  \n3                                      NaN  \n4                                     Cuba  \n5                                      NaN  \n6                                      NaN  \n7                                      NaN  \n8   Korea, North, Turkmenistan, Uzbekistan  \n9                                      NaN  \n10                                     NaN  \n11                                     NaN  \n12                                     NaN  \n13                                     NaN  \n14                              Yugoslavia  \n15                                     NaN  \n16                                     NaN  \n17                                     NaN  \n18              Syria, Yemen, North, Yemen  \n\n[19 rows x 38 columns]",
      "text/html": "<div>\n<style scoped>\n    .dataframe tbody tr th:only-of-type {\n        vertical-align: middle;\n    }\n\n    .dataframe tbody tr th {\n        vertical-align: top;\n    }\n\n    .dataframe thead th {\n        text-align: right;\n    }\n</style>\n<table border=\"1\" class=\"dataframe\">\n  <thead>\n    <tr style=\"text-align: right;\">\n      <th></th>\n      <th>Region</th>\n      <th>1988.0</th>\n      <th>1989.0</th>\n      <th>1990.0</th>\n      <th>1991.0</th>\n      <th>1992.0</th>\n      <th>1993.0</th>\n      <th>1994.0</th>\n      <th>1995.0</th>\n      <th>1996.0</th>\n      <th>...</th>\n      <th>2015.0</th>\n      <th>2016.0</th>\n      <th>2017.0</th>\n      <th>2018.0</th>\n      <th>2019.0</th>\n      <th>2020.0</th>\n      <th>2021.0</th>\n      <th>2021 (current prices)</th>\n      <th>Unnamed: 36</th>\n      <th>Omitted countries</th>\n    </tr>\n  </thead>\n  <tbody>\n    <tr>\n      <th>0</th>\n      <td>World</td>\n      <td>1521.342195</td>\n      <td>1500.112640</td>\n      <td>1454.322799</td>\n      <td>...</td>\n      <td>1220.250720</td>\n      <td>1172.239299</td>\n      <td>1137.419935</td>\n      <td>1081.712854</td>\n      <td>1056.974420</td>\n      <td>...</td>\n      <td>1777.647731</td>\n      <td>1786.859912</td>\n      <td>1810.194674</td>\n      <td>1859.026678</td>\n      <td>1932.120739</td>\n      <td>1992.235977</td>\n      <td>2006.576345</td>\n      <td>2113.306673</td>\n      <td>NaN</td>\n      <td>NaN</td>\n    </tr>\n    <tr>\n      <th>1</th>\n      <td>Africa</td>\n      <td>15.153684</td>\n      <td>15.065699</td>\n      <td>14.718979</td>\n      <td>13.340598</td>\n      <td>12.418684</td>\n      <td>13.779063</td>\n      <td>13.158566</td>\n      <td>12.103963</td>\n      <td>11.716104</td>\n      <td>...</td>\n      <td>38.455157</td>\n      <td>37.136733</td>\n      <td>36.548078</td>\n      <td>34.747355</td>\n      <td>35.846381</td>\n      <td>36.354563</td>\n      <td>36.873525</td>\n      <td>39.707460</td>\n      <td>NaN</td>\n      <td>Djibouti, Eritrea, Somalia</td>\n    </tr>\n    <tr>\n      <th>2</th>\n      <td>North Africa</td>\n      <td>3.061962</td>\n      <td>3.196160</td>\n      <td>3.179809</td>\n      <td>3.291954</td>\n      <td>3.722178</td>\n      <td>3.920418</td>\n      <td>4.240411</td>\n      <td>4.036586</td>\n      <td>4.270101</td>\n      <td>...</td>\n      <td>17.345827</td>\n      <td>17.364706</td>\n      <td>16.877121</td>\n      <td>16.387665</td>\n      <td>17.454071</td>\n      <td>18.336731</td>\n      <td>18.040343</td>\n      <td>19.618549</td>\n      <td>NaN</td>\n      <td>NaN</td>\n    </tr>\n    <tr>\n      <th>3</th>\n      <td>sub-Saharan Africa</td>\n      <td>12.091722</td>\n      <td>11.869538</td>\n      <td>11.539170</td>\n      <td>10.048643</td>\n      <td>8.696505</td>\n      <td>9.858645</td>\n      <td>8.918155</td>\n      <td>8.067376</td>\n      <td>7.446003</td>\n      <td>...</td>\n      <td>21.109331</td>\n      <td>19.772027</td>\n      <td>19.670958</td>\n      <td>18.359690</td>\n      <td>18.392310</td>\n      <td>18.017831</td>\n      <td>18.833181</td>\n      <td>20.088911</td>\n      <td>NaN</td>\n      <td>NaN</td>\n    </tr>\n    <tr>\n      <th>4</th>\n      <td>Americas</td>\n      <td>726.340729</td>\n      <td>719.053830</td>\n      <td>686.899831</td>\n      <td>607.486137</td>\n      <td>636.872379</td>\n      <td>608.065610</td>\n      <td>581.062090</td>\n      <td>547.056638</td>\n      <td>518.973654</td>\n      <td>...</td>\n      <td>761.296874</td>\n      <td>758.075202</td>\n      <td>756.731092</td>\n      <td>778.822903</td>\n      <td>818.551640</td>\n      <td>856.215819</td>\n      <td>845.812437</td>\n      <td>883.378414</td>\n      <td>NaN</td>\n      <td>Cuba</td>\n    </tr>\n    <tr>\n      <th>5</th>\n      <td>Central America and the Caribbean</td>\n      <td>3.942937</td>\n      <td>4.050969</td>\n      <td>3.735170</td>\n      <td>3.54332</td>\n      <td>3.869320</td>\n      <td>3.926364</td>\n      <td>4.496454</td>\n      <td>3.892222</td>\n      <td>3.964929</td>\n      <td>...</td>\n      <td>6.756783</td>\n      <td>7.431725</td>\n      <td>6.962338</td>\n      <td>7.640058</td>\n      <td>8.372522</td>\n      <td>10.221562</td>\n      <td>9.963164</td>\n      <td>10.963088</td>\n      <td>NaN</td>\n      <td>NaN</td>\n    </tr>\n    <tr>\n      <th>6</th>\n      <td>North America</td>\n      <td>695.168369</td>\n      <td>689.354740</td>\n      <td>661.386389</td>\n      <td>584.946641</td>\n      <td>615.375848</td>\n      <td>583.251917</td>\n      <td>553.524731</td>\n      <td>517.175746</td>\n      <td>488.643168</td>\n      <td>...</td>\n      <td>710.625880</td>\n      <td>708.747673</td>\n      <td>705.539811</td>\n      <td>725.987986</td>\n      <td>765.722823</td>\n      <td>801.678520</td>\n      <td>791.781580</td>\n      <td>827.121363</td>\n      <td>NaN</td>\n      <td>NaN</td>\n    </tr>\n    <tr>\n      <th>7</th>\n      <td>South America</td>\n      <td>27.229423</td>\n      <td>25.648121</td>\n      <td>21.778272</td>\n      <td>18.996175</td>\n      <td>17.627211</td>\n      <td>20.887328</td>\n      <td>23.040905</td>\n      <td>25.988671</td>\n      <td>26.365557</td>\n      <td>...</td>\n      <td>43.914212</td>\n      <td>41.895805</td>\n      <td>44.228943</td>\n      <td>45.194859</td>\n      <td>44.456296</td>\n      <td>44.315738</td>\n      <td>44.067692</td>\n      <td>45.293964</td>\n      <td>NaN</td>\n      <td>NaN</td>\n    </tr>\n    <tr>\n      <th>8</th>\n      <td>Asia &amp; Oceania</td>\n      <td>137.864182</td>\n      <td>145.056360</td>\n      <td>151.816941</td>\n      <td>154.492563</td>\n      <td>161.601833</td>\n      <td>165.425133</td>\n      <td>166.508590</td>\n      <td>171.347761</td>\n      <td>175.598694</td>\n      <td>...</td>\n      <td>433.793422</td>\n      <td>456.237182</td>\n      <td>476.832473</td>\n      <td>494.926415</td>\n      <td>519.403515</td>\n      <td>534.160404</td>\n      <td>553.056498</td>\n      <td>586.066739</td>\n      <td>NaN</td>\n      <td>Korea, North, Turkmenistan, Uzbekistan</td>\n    </tr>\n    <tr>\n      <th>9</th>\n      <td>Oceania</td>\n      <td>14.055046</td>\n      <td>14.034826</td>\n      <td>14.210986</td>\n      <td>14.254401</td>\n      <td>14.487300</td>\n      <td>14.935573</td>\n      <td>15.130940</td>\n      <td>14.711191</td>\n      <td>14.599016</td>\n      <td>...</td>\n      <td>25.845368</td>\n      <td>28.237945</td>\n      <td>28.348408</td>\n      <td>27.960921</td>\n      <td>29.127704</td>\n      <td>30.493554</td>\n      <td>31.570980</td>\n      <td>35.302768</td>\n      <td>NaN</td>\n      <td>NaN</td>\n    </tr>\n    <tr>\n      <th>10</th>\n      <td>South Asia</td>\n      <td>25.567911</td>\n      <td>26.648550</td>\n      <td>26.673954</td>\n      <td>25.774061</td>\n      <td>25.413154</td>\n      <td>27.950534</td>\n      <td>28.171271</td>\n      <td>29.522988</td>\n      <td>29.881250</td>\n      <td>...</td>\n      <td>71.729075</td>\n      <td>78.000814</td>\n      <td>83.421005</td>\n      <td>87.841450</td>\n      <td>92.663191</td>\n      <td>90.134139</td>\n      <td>90.839977</td>\n      <td>95.071960</td>\n      <td>NaN</td>\n      <td>NaN</td>\n    </tr>\n    <tr>\n      <th>11</th>\n      <td>East Asia</td>\n      <td>83.750591</td>\n      <td>88.654983</td>\n      <td>93.642850</td>\n      <td>96.861437</td>\n      <td>103.628859</td>\n      <td>103.684940</td>\n      <td>103.028502</td>\n      <td>105.423438</td>\n      <td>108.497337</td>\n      <td>...</td>\n      <td>294.424476</td>\n      <td>306.248058</td>\n      <td>319.634922</td>\n      <td>336.777025</td>\n      <td>353.629981</td>\n      <td>367.504101</td>\n      <td>385.657747</td>\n      <td>410.769082</td>\n      <td>NaN</td>\n      <td>NaN</td>\n    </tr>\n    <tr>\n      <th>12</th>\n      <td>South East Asia</td>\n      <td>14.490634</td>\n      <td>15.718001</td>\n      <td>17.289150</td>\n      <td>17.602664</td>\n      <td>17.998239</td>\n      <td>18.313522</td>\n      <td>19.862975</td>\n      <td>21.382781</td>\n      <td>22.294155</td>\n      <td>...</td>\n      <td>41.597776</td>\n      <td>42.189141</td>\n      <td>43.926935</td>\n      <td>40.737510</td>\n      <td>41.942325</td>\n      <td>44.268959</td>\n      <td>43.243021</td>\n      <td>43.098577</td>\n      <td>NaN</td>\n      <td>NaN</td>\n    </tr>\n    <tr>\n      <th>13</th>\n      <td>Central Asia</td>\n      <td>0.000000</td>\n      <td>0.000000</td>\n      <td>0.000000</td>\n      <td>0.0</td>\n      <td>0.074281</td>\n      <td>0.540564</td>\n      <td>0.314901</td>\n      <td>0.307365</td>\n      <td>0.326937</td>\n      <td>...</td>\n      <td>0.196727</td>\n      <td>1.561224</td>\n      <td>1.501203</td>\n      <td>1.609509</td>\n      <td>2.040314</td>\n      <td>1.759650</td>\n      <td>1.744773</td>\n      <td>1.824352</td>\n      <td>NaN</td>\n      <td>NaN</td>\n    </tr>\n    <tr>\n      <th>14</th>\n      <td>Europe</td>\n      <td>571.577077</td>\n      <td>556.655746</td>\n      <td>514.630838</td>\n      <td>...</td>\n      <td>331.723599</td>\n      <td>310.150788</td>\n      <td>303.804211</td>\n      <td>281.515998</td>\n      <td>280.319841</td>\n      <td>...</td>\n      <td>335.945382</td>\n      <td>347.754158</td>\n      <td>339.332795</td>\n      <td>345.853753</td>\n      <td>363.682209</td>\n      <td>381.291616</td>\n      <td>392.646912</td>\n      <td>417.835505</td>\n      <td>NaN</td>\n      <td>Yugoslavia</td>\n    </tr>\n    <tr>\n      <th>15</th>\n      <td>Central Europe</td>\n      <td>32.403123</td>\n      <td>35.149375</td>\n      <td>27.494663</td>\n      <td>19.738076</td>\n      <td>20.232764</td>\n      <td>16.193813</td>\n      <td>16.760571</td>\n      <td>17.296855</td>\n      <td>18.283426</td>\n      <td>...</td>\n      <td>22.699519</td>\n      <td>23.040238</td>\n      <td>24.809267</td>\n      <td>27.989539</td>\n      <td>31.693524</td>\n      <td>33.922181</td>\n      <td>34.351549</td>\n      <td>36.584024</td>\n      <td>NaN</td>\n      <td>NaN</td>\n    </tr>\n    <tr>\n      <th>16</th>\n      <td>Eastern Europe</td>\n      <td>259.950523</td>\n      <td>241.036790</td>\n      <td>203.913771</td>\n      <td>...</td>\n      <td>44.273328</td>\n      <td>39.141851</td>\n      <td>37.838782</td>\n      <td>25.424259</td>\n      <td>23.995824</td>\n      <td>...</td>\n      <td>77.722789</td>\n      <td>81.614147</td>\n      <td>66.944705</td>\n      <td>65.666863</td>\n      <td>69.229117</td>\n      <td>71.548279</td>\n      <td>73.163611</td>\n      <td>76.290312</td>\n      <td>NaN</td>\n      <td>NaN</td>\n    </tr>\n    <tr>\n      <th>17</th>\n      <td>Western Europe</td>\n      <td>279.223430</td>\n      <td>280.469582</td>\n      <td>283.222404</td>\n      <td>278.081065</td>\n      <td>267.217506</td>\n      <td>254.815124</td>\n      <td>249.204858</td>\n      <td>238.794884</td>\n      <td>238.040591</td>\n      <td>...</td>\n      <td>235.523073</td>\n      <td>243.099772</td>\n      <td>247.578823</td>\n      <td>252.197351</td>\n      <td>262.759569</td>\n      <td>275.821156</td>\n      <td>285.131752</td>\n      <td>304.961169</td>\n      <td>NaN</td>\n      <td>NaN</td>\n    </tr>\n    <tr>\n      <th>18</th>\n      <td>Middle East</td>\n      <td>70.406523</td>\n      <td>64.281005</td>\n      <td>86.256211</td>\n      <td>94.996744</td>\n      <td>77.634224</td>\n      <td>74.818705</td>\n      <td>72.886478</td>\n      <td>69.688493</td>\n      <td>70.366126</td>\n      <td>...</td>\n      <td>208.156896</td>\n      <td>187.656638</td>\n      <td>200.750235</td>\n      <td>204.676252</td>\n      <td>194.636995</td>\n      <td>184.213576</td>\n      <td>178.186974</td>\n      <td>186.318555</td>\n      <td>NaN</td>\n      <td>Syria, Yemen, North, Yemen</td>\n    </tr>\n  </tbody>\n</table>\n<p>19 rows × 38 columns</p>\n</div>"
     },
     "execution_count": 18,
     "metadata": {},
     "output_type": "execute_result"
    }
   ],
   "source": [
    "data.parse(sheet_name=1, header=13)"
   ],
   "metadata": {
    "collapsed": false,
    "pycharm": {
     "name": "#%%\n"
    }
   }
  },
  {
   "cell_type": "code",
   "execution_count": null,
   "outputs": [],
   "source": [],
   "metadata": {
    "collapsed": false,
    "pycharm": {
     "name": "#%%\n"
    }
   }
  }
 ],
 "metadata": {
  "kernelspec": {
   "display_name": "Python 3",
   "language": "python",
   "name": "python3"
  },
  "language_info": {
   "codemirror_mode": {
    "name": "ipython",
    "version": 2
   },
   "file_extension": ".py",
   "mimetype": "text/x-python",
   "name": "python",
   "nbconvert_exporter": "python",
   "pygments_lexer": "ipython2",
   "version": "2.7.6"
  }
 },
 "nbformat": 4,
 "nbformat_minor": 0
}